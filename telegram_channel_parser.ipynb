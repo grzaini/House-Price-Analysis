{
 "cells": [
  {
   "cell_type": "code",
   "execution_count": 3,
   "id": "ffa7d849",
   "metadata": {},
   "outputs": [],
   "source": [
    "#import necessary packages\n",
    "import numpy as np\n",
    "import pandas as pd\n",
    "import matplotlib.pyplot as plt\n",
    "import json"
   ]
  },
  {
   "cell_type": "code",
   "execution_count": 6,
   "id": "75e92408",
   "metadata": {},
   "outputs": [
    {
     "data": {
      "text/html": [
       "<div>\n",
       "<style scoped>\n",
       "    .dataframe tbody tr th:only-of-type {\n",
       "        vertical-align: middle;\n",
       "    }\n",
       "\n",
       "    .dataframe tbody tr th {\n",
       "        vertical-align: top;\n",
       "    }\n",
       "\n",
       "    .dataframe thead th {\n",
       "        text-align: right;\n",
       "    }\n",
       "</style>\n",
       "<table border=\"1\" class=\"dataframe\">\n",
       "  <thead>\n",
       "    <tr style=\"text-align: right;\">\n",
       "      <th></th>\n",
       "      <th>_</th>\n",
       "      <th>id</th>\n",
       "      <th>date</th>\n",
       "      <th>message</th>\n",
       "      <th>out</th>\n",
       "      <th>mentioned</th>\n",
       "      <th>media_unread</th>\n",
       "      <th>silent</th>\n",
       "      <th>post</th>\n",
       "      <th>from_scheduled</th>\n",
       "      <th>...</th>\n",
       "      <th>action.photo.video_sizes</th>\n",
       "      <th>replies._</th>\n",
       "      <th>replies.replies</th>\n",
       "      <th>replies.replies_pts</th>\n",
       "      <th>replies.comments</th>\n",
       "      <th>replies.recent_repliers</th>\n",
       "      <th>replies.channel_id</th>\n",
       "      <th>replies.max_id</th>\n",
       "      <th>replies.read_max_id</th>\n",
       "      <th>action.title</th>\n",
       "    </tr>\n",
       "  </thead>\n",
       "  <tbody>\n",
       "    <tr>\n",
       "      <th>0</th>\n",
       "      <td>Message</td>\n",
       "      <td>7658</td>\n",
       "      <td>2022-12-26T09:33:35+00:00</td>\n",
       "      <td>کـــود🔎\\n0-H323\\n\\n🗺 حويلي \\n🏡 مزارشريف: چوك ن...</td>\n",
       "      <td>False</td>\n",
       "      <td>False</td>\n",
       "      <td>False</td>\n",
       "      <td>False</td>\n",
       "      <td>True</td>\n",
       "      <td>False</td>\n",
       "      <td>...</td>\n",
       "      <td>NaN</td>\n",
       "      <td>NaN</td>\n",
       "      <td>NaN</td>\n",
       "      <td>NaN</td>\n",
       "      <td>NaN</td>\n",
       "      <td>NaN</td>\n",
       "      <td>NaN</td>\n",
       "      <td>NaN</td>\n",
       "      <td>NaN</td>\n",
       "      <td>NaN</td>\n",
       "    </tr>\n",
       "    <tr>\n",
       "      <th>1</th>\n",
       "      <td>Message</td>\n",
       "      <td>7657</td>\n",
       "      <td>2022-12-26T09:33:28+00:00</td>\n",
       "      <td></td>\n",
       "      <td>False</td>\n",
       "      <td>False</td>\n",
       "      <td>False</td>\n",
       "      <td>False</td>\n",
       "      <td>True</td>\n",
       "      <td>False</td>\n",
       "      <td>...</td>\n",
       "      <td>NaN</td>\n",
       "      <td>NaN</td>\n",
       "      <td>NaN</td>\n",
       "      <td>NaN</td>\n",
       "      <td>NaN</td>\n",
       "      <td>NaN</td>\n",
       "      <td>NaN</td>\n",
       "      <td>NaN</td>\n",
       "      <td>NaN</td>\n",
       "      <td>NaN</td>\n",
       "    </tr>\n",
       "    <tr>\n",
       "      <th>2</th>\n",
       "      <td>Message</td>\n",
       "      <td>7656</td>\n",
       "      <td>2022-12-26T09:33:28+00:00</td>\n",
       "      <td></td>\n",
       "      <td>False</td>\n",
       "      <td>False</td>\n",
       "      <td>False</td>\n",
       "      <td>False</td>\n",
       "      <td>True</td>\n",
       "      <td>False</td>\n",
       "      <td>...</td>\n",
       "      <td>NaN</td>\n",
       "      <td>NaN</td>\n",
       "      <td>NaN</td>\n",
       "      <td>NaN</td>\n",
       "      <td>NaN</td>\n",
       "      <td>NaN</td>\n",
       "      <td>NaN</td>\n",
       "      <td>NaN</td>\n",
       "      <td>NaN</td>\n",
       "      <td>NaN</td>\n",
       "    </tr>\n",
       "    <tr>\n",
       "      <th>3</th>\n",
       "      <td>Message</td>\n",
       "      <td>7655</td>\n",
       "      <td>2022-12-26T09:33:28+00:00</td>\n",
       "      <td></td>\n",
       "      <td>False</td>\n",
       "      <td>False</td>\n",
       "      <td>False</td>\n",
       "      <td>False</td>\n",
       "      <td>True</td>\n",
       "      <td>False</td>\n",
       "      <td>...</td>\n",
       "      <td>NaN</td>\n",
       "      <td>NaN</td>\n",
       "      <td>NaN</td>\n",
       "      <td>NaN</td>\n",
       "      <td>NaN</td>\n",
       "      <td>NaN</td>\n",
       "      <td>NaN</td>\n",
       "      <td>NaN</td>\n",
       "      <td>NaN</td>\n",
       "      <td>NaN</td>\n",
       "    </tr>\n",
       "    <tr>\n",
       "      <th>4</th>\n",
       "      <td>Message</td>\n",
       "      <td>7654</td>\n",
       "      <td>2022-12-26T09:33:28+00:00</td>\n",
       "      <td></td>\n",
       "      <td>False</td>\n",
       "      <td>False</td>\n",
       "      <td>False</td>\n",
       "      <td>False</td>\n",
       "      <td>True</td>\n",
       "      <td>False</td>\n",
       "      <td>...</td>\n",
       "      <td>NaN</td>\n",
       "      <td>NaN</td>\n",
       "      <td>NaN</td>\n",
       "      <td>NaN</td>\n",
       "      <td>NaN</td>\n",
       "      <td>NaN</td>\n",
       "      <td>NaN</td>\n",
       "      <td>NaN</td>\n",
       "      <td>NaN</td>\n",
       "      <td>NaN</td>\n",
       "    </tr>\n",
       "  </tbody>\n",
       "</table>\n",
       "<p>5 rows × 112 columns</p>\n",
       "</div>"
      ],
      "text/plain": [
       "         _    id                       date  \\\n",
       "0  Message  7658  2022-12-26T09:33:35+00:00   \n",
       "1  Message  7657  2022-12-26T09:33:28+00:00   \n",
       "2  Message  7656  2022-12-26T09:33:28+00:00   \n",
       "3  Message  7655  2022-12-26T09:33:28+00:00   \n",
       "4  Message  7654  2022-12-26T09:33:28+00:00   \n",
       "\n",
       "                                             message    out  mentioned  \\\n",
       "0  کـــود🔎\\n0-H323\\n\\n🗺 حويلي \\n🏡 مزارشريف: چوك ن...  False      False   \n",
       "1                                                     False      False   \n",
       "2                                                     False      False   \n",
       "3                                                     False      False   \n",
       "4                                                     False      False   \n",
       "\n",
       "   media_unread  silent  post from_scheduled  ...  action.photo.video_sizes  \\\n",
       "0         False   False  True          False  ...                       NaN   \n",
       "1         False   False  True          False  ...                       NaN   \n",
       "2         False   False  True          False  ...                       NaN   \n",
       "3         False   False  True          False  ...                       NaN   \n",
       "4         False   False  True          False  ...                       NaN   \n",
       "\n",
       "  replies._ replies.replies replies.replies_pts replies.comments  \\\n",
       "0       NaN             NaN                 NaN              NaN   \n",
       "1       NaN             NaN                 NaN              NaN   \n",
       "2       NaN             NaN                 NaN              NaN   \n",
       "3       NaN             NaN                 NaN              NaN   \n",
       "4       NaN             NaN                 NaN              NaN   \n",
       "\n",
       "   replies.recent_repliers  replies.channel_id  replies.max_id  \\\n",
       "0                      NaN                 NaN             NaN   \n",
       "1                      NaN                 NaN             NaN   \n",
       "2                      NaN                 NaN             NaN   \n",
       "3                      NaN                 NaN             NaN   \n",
       "4                      NaN                 NaN             NaN   \n",
       "\n",
       "   replies.read_max_id  action.title  \n",
       "0                  NaN           NaN  \n",
       "1                  NaN           NaN  \n",
       "2                  NaN           NaN  \n",
       "3                  NaN           NaN  \n",
       "4                  NaN           NaN  \n",
       "\n",
       "[5 rows x 112 columns]"
      ]
     },
     "execution_count": 6,
     "metadata": {},
     "output_type": "execute_result"
    }
   ],
   "source": [
    "#load json data which is extracted from telegram Zamin channel by Python script\n",
    "loaded_data = json.load(open('channel_messages.json'))\n",
    "df = pd.json_normalize(data=loaded_data)\n",
    "df.head()"
   ]
  },
  {
   "cell_type": "code",
   "execution_count": 5,
   "id": "373ca0d6",
   "metadata": {},
   "outputs": [],
   "source": [
    "# take only the necessary data and make another DF, df2.\n",
    "df2 = df[['id', 'date','message', 'views', 'forwards', 'edit_date']]"
   ]
  },
  {
   "cell_type": "code",
   "execution_count": 7,
   "id": "fc9bb385",
   "metadata": {},
   "outputs": [
    {
     "data": {
      "text/html": [
       "<div>\n",
       "<style scoped>\n",
       "    .dataframe tbody tr th:only-of-type {\n",
       "        vertical-align: middle;\n",
       "    }\n",
       "\n",
       "    .dataframe tbody tr th {\n",
       "        vertical-align: top;\n",
       "    }\n",
       "\n",
       "    .dataframe thead th {\n",
       "        text-align: right;\n",
       "    }\n",
       "</style>\n",
       "<table border=\"1\" class=\"dataframe\">\n",
       "  <thead>\n",
       "    <tr style=\"text-align: right;\">\n",
       "      <th></th>\n",
       "      <th>id</th>\n",
       "      <th>date</th>\n",
       "      <th>message</th>\n",
       "      <th>views</th>\n",
       "      <th>forwards</th>\n",
       "      <th>edit_date</th>\n",
       "    </tr>\n",
       "  </thead>\n",
       "  <tbody>\n",
       "    <tr>\n",
       "      <th>0</th>\n",
       "      <td>7658</td>\n",
       "      <td>2022-12-26T09:33:35+00:00</td>\n",
       "      <td>کـــود🔎\\n0-H323\\n\\n🗺 حويلي \\n🏡 مزارشريف: چوك ن...</td>\n",
       "      <td>287.0</td>\n",
       "      <td>0.0</td>\n",
       "      <td>None</td>\n",
       "    </tr>\n",
       "    <tr>\n",
       "      <th>5</th>\n",
       "      <td>7653</td>\n",
       "      <td>2022-12-26T06:58:58+00:00</td>\n",
       "      <td>کـــود🔎\\n1-H11\\n\\n🗺 حویلی \\n🏡 کابل: چهلستون \\n...</td>\n",
       "      <td>567.0</td>\n",
       "      <td>0.0</td>\n",
       "      <td>2022-12-26T07:10:10+00:00</td>\n",
       "    </tr>\n",
       "    <tr>\n",
       "      <th>11</th>\n",
       "      <td>7647</td>\n",
       "      <td>2022-12-25T14:10:29+00:00</td>\n",
       "      <td>کـــود🔎\\n0-H347\\n\\n🗺 حويلي \\n🏡 مزارشريف: پروزه...</td>\n",
       "      <td>1094.0</td>\n",
       "      <td>0.0</td>\n",
       "      <td>2022-12-25T14:14:11+00:00</td>\n",
       "    </tr>\n",
       "    <tr>\n",
       "      <th>19</th>\n",
       "      <td>7639</td>\n",
       "      <td>2022-12-25T03:58:13+00:00</td>\n",
       "      <td>کـــود🔎\\n1-B27\\n\\n🗺 حویلی \\n🏡 کابل: سرکوتل\\n💰 ...</td>\n",
       "      <td>1266.0</td>\n",
       "      <td>0.0</td>\n",
       "      <td>2022-12-25T05:34:16+00:00</td>\n",
       "    </tr>\n",
       "    <tr>\n",
       "      <th>21</th>\n",
       "      <td>7637</td>\n",
       "      <td>2022-12-24T16:47:11+00:00</td>\n",
       "      <td>کـــود🔎\\n0-H318\\n\\n🗺 حويلي \\n🏡 مزارشريف: شهرك ...</td>\n",
       "      <td>1425.0</td>\n",
       "      <td>0.0</td>\n",
       "      <td>2022-12-25T05:34:12+00:00</td>\n",
       "    </tr>\n",
       "  </tbody>\n",
       "</table>\n",
       "</div>"
      ],
      "text/plain": [
       "      id                       date  \\\n",
       "0   7658  2022-12-26T09:33:35+00:00   \n",
       "5   7653  2022-12-26T06:58:58+00:00   \n",
       "11  7647  2022-12-25T14:10:29+00:00   \n",
       "19  7639  2022-12-25T03:58:13+00:00   \n",
       "21  7637  2022-12-24T16:47:11+00:00   \n",
       "\n",
       "                                              message   views  forwards  \\\n",
       "0   کـــود🔎\\n0-H323\\n\\n🗺 حويلي \\n🏡 مزارشريف: چوك ن...   287.0       0.0   \n",
       "5   کـــود🔎\\n1-H11\\n\\n🗺 حویلی \\n🏡 کابل: چهلستون \\n...   567.0       0.0   \n",
       "11  کـــود🔎\\n0-H347\\n\\n🗺 حويلي \\n🏡 مزارشريف: پروزه...  1094.0       0.0   \n",
       "19  کـــود🔎\\n1-B27\\n\\n🗺 حویلی \\n🏡 کابل: سرکوتل\\n💰 ...  1266.0       0.0   \n",
       "21  کـــود🔎\\n0-H318\\n\\n🗺 حويلي \\n🏡 مزارشريف: شهرك ...  1425.0       0.0   \n",
       "\n",
       "                    edit_date  \n",
       "0                        None  \n",
       "5   2022-12-26T07:10:10+00:00  \n",
       "11  2022-12-25T14:14:11+00:00  \n",
       "19  2022-12-25T05:34:16+00:00  \n",
       "21  2022-12-25T05:34:12+00:00  "
      ]
     },
     "execution_count": 7,
     "metadata": {},
     "output_type": "execute_result"
    }
   ],
   "source": [
    "#assign Nan value into the message column contains no value and then remove them.\n",
    "#list(filter(lambda a: a not in [''], df2['message']))\n",
    "df2['message'].replace('', np.nan, inplace=True)\n",
    "df2.dropna(subset=['message'], inplace=True)\n",
    "df2.head()"
   ]
  },
  {
   "cell_type": "code",
   "execution_count": 11,
   "id": "446633cb",
   "metadata": {},
   "outputs": [
    {
     "name": "stdout",
     "output_type": "stream",
     "text": [
      "Collecting package metadata (current_repodata.json): done\n",
      "Solving environment: done\n",
      "\n",
      "\n",
      "==> WARNING: A newer version of conda exists. <==\n",
      "  current version: 22.9.0\n",
      "  latest version: 22.11.1\n",
      "\n",
      "Please update conda by running\n",
      "\n",
      "    $ conda update -n base -c defaults conda\n",
      "\n",
      "\n",
      "\n",
      "## Package Plan ##\n",
      "\n",
      "  environment location: /Users/Rasoul/opt/anaconda3\n",
      "\n",
      "  added / updated specs:\n",
      "    - emoji\n",
      "\n",
      "\n",
      "The following packages will be downloaded:\n",
      "\n",
      "    package                    |            build\n",
      "    ---------------------------|-----------------\n",
      "    conda-22.11.1              |   py39h6e9494a_1         874 KB  conda-forge\n",
      "    emoji-2.2.0                |     pyhd8ed1ab_0         166 KB  conda-forge\n",
      "    python_abi-3.9             |           2_cp39           4 KB  conda-forge\n",
      "    ruamel.yaml-0.17.21        |   py39ha30fb19_2         173 KB  conda-forge\n",
      "    ruamel.yaml.clib-0.2.7     |   py39ha30fb19_1         118 KB  conda-forge\n",
      "    ------------------------------------------------------------\n",
      "                                           Total:         1.3 MB\n",
      "\n",
      "The following NEW packages will be INSTALLED:\n",
      "\n",
      "  emoji              conda-forge/noarch::emoji-2.2.0-pyhd8ed1ab_0 None\n",
      "  python_abi         conda-forge/osx-64::python_abi-3.9-2_cp39 None\n",
      "  ruamel.yaml        conda-forge/osx-64::ruamel.yaml-0.17.21-py39ha30fb19_2 None\n",
      "  ruamel.yaml.clib   conda-forge/osx-64::ruamel.yaml.clib-0.2.7-py39ha30fb19_1 None\n",
      "\n",
      "The following packages will be UPDATED:\n",
      "\n",
      "  conda              pkgs/main::conda-22.9.0-py39hecd8cb5_0 --> conda-forge::conda-22.11.1-py39h6e9494a_1 None\n",
      "\n",
      "\n",
      "\n",
      "Downloading and Extracting Packages\n",
      "emoji-2.2.0          | 166 KB    | ##################################### | 100% \n",
      "ruamel.yaml-0.17.21  | 173 KB    | ##################################### | 100% \n",
      "ruamel.yaml.clib-0.2 | 118 KB    | ##################################### | 100% \n",
      "conda-22.11.1        | 874 KB    | ##################################### | 100% \n",
      "python_abi-3.9       | 4 KB      | ##################################### | 100% \n",
      "Preparing transaction: done\n",
      "Verifying transaction: done\n",
      "Executing transaction: done\n",
      "Retrieving notices: ...working... done\n",
      "\n",
      "Note: you may need to restart the kernel to use updated packages.\n"
     ]
    }
   ],
   "source": [
    "#install this package to remove the emojis from the message column of the df.\n",
    "conda install -c conda-forge emoji"
   ]
  },
  {
   "cell_type": "code",
   "execution_count": 10,
   "id": "b0e68e13",
   "metadata": {},
   "outputs": [
    {
     "name": "stdout",
     "output_type": "stream",
     "text": [
      ":thinking_face: :see-no-evil_monkey: me así, bla es se :relieved_face: ds :two_hearts::women_holding_hands::bikini:\n"
     ]
    }
   ],
   "source": [
    "#import emoji package\n",
    "import emoji\n",
    "import re\n",
    "text= '🤔 🙈 me así, bla es se 😌 ds 💕👭👙'\n",
    "text_de= emoji.demojize(text)\n",
    "print(text_de)"
   ]
  },
  {
   "cell_type": "code",
   "execution_count": 57,
   "id": "16ff865f",
   "metadata": {},
   "outputs": [
    {
     "name": "stdout",
     "output_type": "stream",
     "text": [
      "['🤔🙈😌💕👭👙']\n"
     ]
    }
   ],
   "source": [
    "#example of emoji use\n",
    "emojis_list_de= re.findall(r'(:[!_\\-\\w]+:)', text_de)\n",
    "list_emoji= [emoji.emojize(x) for x in emojis_list_de]\n",
    "print([''.join(list_emoji)])"
   ]
  },
  {
   "cell_type": "code",
   "execution_count": 11,
   "id": "5adfb126",
   "metadata": {},
   "outputs": [
    {
     "name": "stdout",
     "output_type": "stream",
     "text": [
      "  me así, bla es se  ds \n"
     ]
    }
   ],
   "source": [
    "#define emoji remover function to be used later\n",
    "def remove_emoji(text):\n",
    "    text=  emoji.demojize(text)\n",
    "    text= re.sub(r'(:[!_\\-\\w]+:)', '', text)\n",
    "    return text\n",
    "\n",
    "text= '🤔 🙈 me así, bla es se 😌 ds 💕👭👙'\n",
    "print(remove_emoji(text))"
   ]
  },
  {
   "cell_type": "code",
   "execution_count": 8,
   "id": "51931ce6",
   "metadata": {},
   "outputs": [
    {
     "data": {
      "text/plain": [
       "0     کـــود🔎\\n0-H323\\n\\n🗺 حويلي \\n🏡 مزارشريف: چوك ن...\n",
       "5     کـــود🔎\\n1-H11\\n\\n🗺 حویلی \\n🏡 کابل: چهلستون \\n...\n",
       "11    کـــود🔎\\n0-H347\\n\\n🗺 حويلي \\n🏡 مزارشريف: پروزه...\n",
       "19    کـــود🔎\\n1-B27\\n\\n🗺 حویلی \\n🏡 کابل: سرکوتل\\n💰 ...\n",
       "21    کـــود🔎\\n0-H318\\n\\n🗺 حويلي \\n🏡 مزارشريف: شهرك ...\n",
       "Name: message, dtype: object"
      ]
     },
     "execution_count": 8,
     "metadata": {},
     "output_type": "execute_result"
    }
   ],
   "source": [
    "#df2[remove_emoji(str(df2[\"message\"]))]\n",
    "df2['message'].head()"
   ]
  },
  {
   "cell_type": "code",
   "execution_count": 12,
   "id": "757bcd02",
   "metadata": {},
   "outputs": [],
   "source": [
    "#apply the emoji remover function to remove the emoji from the message column of the df.\n",
    "df2.loc[:,'message'] = df2.apply(lambda row : remove_emoji(str(row[\"message\"])), axis = 1)"
   ]
  },
  {
   "cell_type": "code",
   "execution_count": 13,
   "id": "bd0efafe",
   "metadata": {},
   "outputs": [
    {
     "data": {
      "text/html": [
       "<div>\n",
       "<style scoped>\n",
       "    .dataframe tbody tr th:only-of-type {\n",
       "        vertical-align: middle;\n",
       "    }\n",
       "\n",
       "    .dataframe tbody tr th {\n",
       "        vertical-align: top;\n",
       "    }\n",
       "\n",
       "    .dataframe thead th {\n",
       "        text-align: right;\n",
       "    }\n",
       "</style>\n",
       "<table border=\"1\" class=\"dataframe\">\n",
       "  <thead>\n",
       "    <tr style=\"text-align: right;\">\n",
       "      <th></th>\n",
       "      <th>id</th>\n",
       "      <th>date</th>\n",
       "      <th>message</th>\n",
       "      <th>views</th>\n",
       "      <th>forwards</th>\n",
       "      <th>edit_date</th>\n",
       "    </tr>\n",
       "  </thead>\n",
       "  <tbody>\n",
       "    <tr>\n",
       "      <th>0</th>\n",
       "      <td>7658</td>\n",
       "      <td>2022-12-26T09:33:35+00:00</td>\n",
       "      <td>کـــود\\n0-H323\\n\\n حويلي \\n مزارشريف: چوك نور\\...</td>\n",
       "      <td>287.0</td>\n",
       "      <td>0.0</td>\n",
       "      <td>None</td>\n",
       "    </tr>\n",
       "    <tr>\n",
       "      <th>5</th>\n",
       "      <td>7653</td>\n",
       "      <td>2022-12-26T06:58:58+00:00</td>\n",
       "      <td>کـــود\\n1-H11\\n\\n حویلی \\n کابل: چهلستون \\n فر...</td>\n",
       "      <td>567.0</td>\n",
       "      <td>0.0</td>\n",
       "      <td>2022-12-26T07:10:10+00:00</td>\n",
       "    </tr>\n",
       "    <tr>\n",
       "      <th>11</th>\n",
       "      <td>7647</td>\n",
       "      <td>2022-12-25T14:10:29+00:00</td>\n",
       "      <td>کـــود\\n0-H347\\n\\n حويلي \\n مزارشريف: پروزه S\\...</td>\n",
       "      <td>1094.0</td>\n",
       "      <td>0.0</td>\n",
       "      <td>2022-12-25T14:14:11+00:00</td>\n",
       "    </tr>\n",
       "    <tr>\n",
       "      <th>19</th>\n",
       "      <td>7639</td>\n",
       "      <td>2022-12-25T03:58:13+00:00</td>\n",
       "      <td>کـــود\\n1-B27\\n\\n حویلی \\n کابل: سرکوتل\\n فروش...</td>\n",
       "      <td>1266.0</td>\n",
       "      <td>0.0</td>\n",
       "      <td>2022-12-25T05:34:16+00:00</td>\n",
       "    </tr>\n",
       "    <tr>\n",
       "      <th>21</th>\n",
       "      <td>7637</td>\n",
       "      <td>2022-12-24T16:47:11+00:00</td>\n",
       "      <td>کـــود\\n0-H318\\n\\n حويلي \\n مزارشريف: شهرك خال...</td>\n",
       "      <td>1425.0</td>\n",
       "      <td>0.0</td>\n",
       "      <td>2022-12-25T05:34:12+00:00</td>\n",
       "    </tr>\n",
       "  </tbody>\n",
       "</table>\n",
       "</div>"
      ],
      "text/plain": [
       "      id                       date  \\\n",
       "0   7658  2022-12-26T09:33:35+00:00   \n",
       "5   7653  2022-12-26T06:58:58+00:00   \n",
       "11  7647  2022-12-25T14:10:29+00:00   \n",
       "19  7639  2022-12-25T03:58:13+00:00   \n",
       "21  7637  2022-12-24T16:47:11+00:00   \n",
       "\n",
       "                                              message   views  forwards  \\\n",
       "0   کـــود\\n0-H323\\n\\n حويلي \\n مزارشريف: چوك نور\\...   287.0       0.0   \n",
       "5   کـــود\\n1-H11\\n\\n حویلی \\n کابل: چهلستون \\n فر...   567.0       0.0   \n",
       "11  کـــود\\n0-H347\\n\\n حويلي \\n مزارشريف: پروزه S\\...  1094.0       0.0   \n",
       "19  کـــود\\n1-B27\\n\\n حویلی \\n کابل: سرکوتل\\n فروش...  1266.0       0.0   \n",
       "21  کـــود\\n0-H318\\n\\n حويلي \\n مزارشريف: شهرك خال...  1425.0       0.0   \n",
       "\n",
       "                    edit_date  \n",
       "0                        None  \n",
       "5   2022-12-26T07:10:10+00:00  \n",
       "11  2022-12-25T14:14:11+00:00  \n",
       "19  2022-12-25T05:34:16+00:00  \n",
       "21  2022-12-25T05:34:12+00:00  "
      ]
     },
     "execution_count": 13,
     "metadata": {},
     "output_type": "execute_result"
    }
   ],
   "source": [
    "df2.head()"
   ]
  },
  {
   "cell_type": "code",
   "execution_count": 237,
   "id": "370ae84d",
   "metadata": {},
   "outputs": [
    {
     "data": {
      "text/html": [
       "<div>\n",
       "<style scoped>\n",
       "    .dataframe tbody tr th:only-of-type {\n",
       "        vertical-align: middle;\n",
       "    }\n",
       "\n",
       "    .dataframe tbody tr th {\n",
       "        vertical-align: top;\n",
       "    }\n",
       "\n",
       "    .dataframe thead th {\n",
       "        text-align: right;\n",
       "    }\n",
       "</style>\n",
       "<table border=\"1\" class=\"dataframe\">\n",
       "  <thead>\n",
       "    <tr style=\"text-align: right;\">\n",
       "      <th></th>\n",
       "      <th>id</th>\n",
       "      <th>views</th>\n",
       "      <th>forwards</th>\n",
       "    </tr>\n",
       "  </thead>\n",
       "  <tbody>\n",
       "    <tr>\n",
       "      <th>count</th>\n",
       "      <td>1154.000000</td>\n",
       "      <td>1154.000000</td>\n",
       "      <td>1154.000000</td>\n",
       "    </tr>\n",
       "    <tr>\n",
       "      <th>mean</th>\n",
       "      <td>4041.573657</td>\n",
       "      <td>1696.801560</td>\n",
       "      <td>0.595321</td>\n",
       "    </tr>\n",
       "    <tr>\n",
       "      <th>std</th>\n",
       "      <td>2195.791567</td>\n",
       "      <td>635.367131</td>\n",
       "      <td>0.967832</td>\n",
       "    </tr>\n",
       "    <tr>\n",
       "      <th>min</th>\n",
       "      <td>11.000000</td>\n",
       "      <td>157.000000</td>\n",
       "      <td>0.000000</td>\n",
       "    </tr>\n",
       "    <tr>\n",
       "      <th>25%</th>\n",
       "      <td>2191.000000</td>\n",
       "      <td>1430.250000</td>\n",
       "      <td>0.000000</td>\n",
       "    </tr>\n",
       "    <tr>\n",
       "      <th>50%</th>\n",
       "      <td>4196.000000</td>\n",
       "      <td>1662.000000</td>\n",
       "      <td>0.000000</td>\n",
       "    </tr>\n",
       "    <tr>\n",
       "      <th>75%</th>\n",
       "      <td>5906.750000</td>\n",
       "      <td>2229.000000</td>\n",
       "      <td>1.000000</td>\n",
       "    </tr>\n",
       "    <tr>\n",
       "      <th>max</th>\n",
       "      <td>7658.000000</td>\n",
       "      <td>2885.000000</td>\n",
       "      <td>8.000000</td>\n",
       "    </tr>\n",
       "  </tbody>\n",
       "</table>\n",
       "</div>"
      ],
      "text/plain": [
       "                id        views     forwards\n",
       "count  1154.000000  1154.000000  1154.000000\n",
       "mean   4041.573657  1696.801560     0.595321\n",
       "std    2195.791567   635.367131     0.967832\n",
       "min      11.000000   157.000000     0.000000\n",
       "25%    2191.000000  1430.250000     0.000000\n",
       "50%    4196.000000  1662.000000     0.000000\n",
       "75%    5906.750000  2229.000000     1.000000\n",
       "max    7658.000000  2885.000000     8.000000"
      ]
     },
     "execution_count": 237,
     "metadata": {},
     "output_type": "execute_result"
    }
   ],
   "source": [
    "df2.describe()"
   ]
  },
  {
   "cell_type": "code",
   "execution_count": 242,
   "id": "25fa0a87",
   "metadata": {},
   "outputs": [
    {
     "name": "stdout",
     "output_type": "stream",
     "text": [
      "<class 'pandas.core.frame.DataFrame'>\n",
      "Int64Index: 1154 entries, 0 to 7114\n",
      "Data columns (total 6 columns):\n",
      " #   Column     Non-Null Count  Dtype  \n",
      "---  ------     --------------  -----  \n",
      " 0   id         1154 non-null   int64  \n",
      " 1   date       1154 non-null   object \n",
      " 2   message    1154 non-null   object \n",
      " 3   views      1154 non-null   float64\n",
      " 4   forwards   1154 non-null   float64\n",
      " 5   edit_date  1066 non-null   object \n",
      "dtypes: float64(2), int64(1), object(3)\n",
      "memory usage: 63.1+ KB\n"
     ]
    }
   ],
   "source": [
    "df2.info()"
   ]
  },
  {
   "cell_type": "code",
   "execution_count": 14,
   "id": "bd60eab9",
   "metadata": {},
   "outputs": [],
   "source": [
    "#format the date and time data in the fd.\n",
    "df2.loc[:,'date'] = pd.to_datetime(df2['date']).dt.strftime('%Y-%m-%d')\n",
    "df2.loc[:,'edit_date'] = pd.to_datetime(df2['edit_date']).dt.strftime('%Y-%m-%d')"
   ]
  },
  {
   "cell_type": "code",
   "execution_count": 15,
   "id": "581ff152",
   "metadata": {},
   "outputs": [
    {
     "data": {
      "text/html": [
       "<div>\n",
       "<style scoped>\n",
       "    .dataframe tbody tr th:only-of-type {\n",
       "        vertical-align: middle;\n",
       "    }\n",
       "\n",
       "    .dataframe tbody tr th {\n",
       "        vertical-align: top;\n",
       "    }\n",
       "\n",
       "    .dataframe thead th {\n",
       "        text-align: right;\n",
       "    }\n",
       "</style>\n",
       "<table border=\"1\" class=\"dataframe\">\n",
       "  <thead>\n",
       "    <tr style=\"text-align: right;\">\n",
       "      <th></th>\n",
       "      <th>0</th>\n",
       "      <th>1</th>\n",
       "      <th>2</th>\n",
       "      <th>3</th>\n",
       "      <th>4</th>\n",
       "      <th>5</th>\n",
       "      <th>6</th>\n",
       "      <th>7</th>\n",
       "      <th>8</th>\n",
       "      <th>9</th>\n",
       "      <th>...</th>\n",
       "      <th>27</th>\n",
       "      <th>28</th>\n",
       "      <th>29</th>\n",
       "      <th>30</th>\n",
       "      <th>31</th>\n",
       "      <th>32</th>\n",
       "      <th>33</th>\n",
       "      <th>34</th>\n",
       "      <th>35</th>\n",
       "      <th>36</th>\n",
       "    </tr>\n",
       "  </thead>\n",
       "  <tbody>\n",
       "    <tr>\n",
       "      <th>0</th>\n",
       "      <td>کـــود</td>\n",
       "      <td>0-H323</td>\n",
       "      <td></td>\n",
       "      <td>حويلي</td>\n",
       "      <td>مزارشريف: چوك نور</td>\n",
       "      <td>فروش | 55000$  با جور آمد</td>\n",
       "      <td>براي معلومات و ثبت زمین</td>\n",
       "      <td></td>\n",
       "      <td>0798576666 |</td>\n",
       "      <td>None</td>\n",
       "      <td>...</td>\n",
       "      <td>None</td>\n",
       "      <td>None</td>\n",
       "      <td>None</td>\n",
       "      <td>None</td>\n",
       "      <td>None</td>\n",
       "      <td>None</td>\n",
       "      <td>None</td>\n",
       "      <td>None</td>\n",
       "      <td>None</td>\n",
       "      <td>None</td>\n",
       "    </tr>\n",
       "    <tr>\n",
       "      <th>5</th>\n",
       "      <td>کـــود</td>\n",
       "      <td>1-H11</td>\n",
       "      <td></td>\n",
       "      <td>حویلی</td>\n",
       "      <td>کابل: چهلستون</td>\n",
       "      <td>فروش | 90,000$ با جور آمد</td>\n",
       "      <td>براي معلومات و ثبت زمین</td>\n",
       "      <td></td>\n",
       "      <td>بخش مشتریان | 0782821919</td>\n",
       "      <td>None</td>\n",
       "      <td>...</td>\n",
       "      <td>None</td>\n",
       "      <td>None</td>\n",
       "      <td>None</td>\n",
       "      <td>None</td>\n",
       "      <td>None</td>\n",
       "      <td>None</td>\n",
       "      <td>None</td>\n",
       "      <td>None</td>\n",
       "      <td>None</td>\n",
       "      <td>None</td>\n",
       "    </tr>\n",
       "    <tr>\n",
       "      <th>11</th>\n",
       "      <td>کـــود</td>\n",
       "      <td>0-H347</td>\n",
       "      <td></td>\n",
       "      <td>حويلي</td>\n",
       "      <td>مزارشريف: پروزه S</td>\n",
       "      <td>فروش | 58000$ با جور آمد</td>\n",
       "      <td>براي معلومات و ثبت زمین</td>\n",
       "      <td></td>\n",
       "      <td>0798576666</td>\n",
       "      <td>None</td>\n",
       "      <td>...</td>\n",
       "      <td>None</td>\n",
       "      <td>None</td>\n",
       "      <td>None</td>\n",
       "      <td>None</td>\n",
       "      <td>None</td>\n",
       "      <td>None</td>\n",
       "      <td>None</td>\n",
       "      <td>None</td>\n",
       "      <td>None</td>\n",
       "      <td>None</td>\n",
       "    </tr>\n",
       "    <tr>\n",
       "      <th>19</th>\n",
       "      <td>کـــود</td>\n",
       "      <td>1-B27</td>\n",
       "      <td></td>\n",
       "      <td>حویلی</td>\n",
       "      <td>کابل: سرکوتل</td>\n",
       "      <td>فروش | 10,000$ با جور آمد</td>\n",
       "      <td>براي معلومات و ثبت زمین</td>\n",
       "      <td></td>\n",
       "      <td>بخش مشتریان | 0782821919</td>\n",
       "      <td>None</td>\n",
       "      <td>...</td>\n",
       "      <td>None</td>\n",
       "      <td>None</td>\n",
       "      <td>None</td>\n",
       "      <td>None</td>\n",
       "      <td>None</td>\n",
       "      <td>None</td>\n",
       "      <td>None</td>\n",
       "      <td>None</td>\n",
       "      <td>None</td>\n",
       "      <td>None</td>\n",
       "    </tr>\n",
       "    <tr>\n",
       "      <th>21</th>\n",
       "      <td>کـــود</td>\n",
       "      <td>0-H318</td>\n",
       "      <td></td>\n",
       "      <td>حويلي</td>\n",
       "      <td>مزارشريف: شهرك خالد</td>\n",
       "      <td>فروش | 65000$  با جور آمد</td>\n",
       "      <td>براي معلومات و ثبت زمین</td>\n",
       "      <td></td>\n",
       "      <td>0798576666 |</td>\n",
       "      <td>None</td>\n",
       "      <td>...</td>\n",
       "      <td>None</td>\n",
       "      <td>None</td>\n",
       "      <td>None</td>\n",
       "      <td>None</td>\n",
       "      <td>None</td>\n",
       "      <td>None</td>\n",
       "      <td>None</td>\n",
       "      <td>None</td>\n",
       "      <td>None</td>\n",
       "      <td>None</td>\n",
       "    </tr>\n",
       "  </tbody>\n",
       "</table>\n",
       "<p>5 rows × 37 columns</p>\n",
       "</div>"
      ],
      "text/plain": [
       "        0       1  2        3                     4   \\\n",
       "0   کـــود  0-H323      حويلي      مزارشريف: چوك نور   \n",
       "5   کـــود   1-H11      حویلی         کابل: چهلستون    \n",
       "11  کـــود  0-H347      حويلي      مزارشريف: پروزه S   \n",
       "19  کـــود   1-B27      حویلی           کابل: سرکوتل   \n",
       "21  کـــود  0-H318      حويلي    مزارشريف: شهرك خالد   \n",
       "\n",
       "                               5                          6  7   \\\n",
       "0    فروش | 55000$  با جور آمد      براي معلومات و ثبت زمین       \n",
       "5    فروش | 90,000$ با جور آمد      براي معلومات و ثبت زمین       \n",
       "11    فروش | 58000$ با جور آمد      براي معلومات و ثبت زمین       \n",
       "19   فروش | 10,000$ با جور آمد      براي معلومات و ثبت زمین       \n",
       "21   فروش | 65000$  با جور آمد      براي معلومات و ثبت زمین       \n",
       "\n",
       "                           8     9   ...    27    28    29    30    31    32  \\\n",
       "0               0798576666 |   None  ...  None  None  None  None  None  None   \n",
       "5    بخش مشتریان | 0782821919  None  ...  None  None  None  None  None  None   \n",
       "11                 0798576666  None  ...  None  None  None  None  None  None   \n",
       "19   بخش مشتریان | 0782821919  None  ...  None  None  None  None  None  None   \n",
       "21              0798576666 |   None  ...  None  None  None  None  None  None   \n",
       "\n",
       "      33    34    35    36  \n",
       "0   None  None  None  None  \n",
       "5   None  None  None  None  \n",
       "11  None  None  None  None  \n",
       "19  None  None  None  None  \n",
       "21  None  None  None  None  \n",
       "\n",
       "[5 rows x 37 columns]"
      ]
     },
     "execution_count": 15,
     "metadata": {},
     "output_type": "execute_result"
    }
   ],
   "source": [
    "#split the message column in different field based on a criteria.\n",
    "new_df = df2[\"message\"].str.split(\"\\n\", n = -1, expand = True)\n",
    "new_df.head()"
   ]
  },
  {
   "cell_type": "code",
   "execution_count": 16,
   "id": "f5bd6bb2",
   "metadata": {},
   "outputs": [
    {
     "name": "stderr",
     "output_type": "stream",
     "text": [
      "/var/folders/1t/4z7v2tfd7gj2lkck1drksp800000gp/T/ipykernel_75614/3242999212.py:1: FutureWarning: In a future version of pandas all arguments of DataFrame.drop except for the argument 'labels' will be keyword-only.\n",
      "  new_df.drop(new_df.columns[[11,12,13,14,15,16,17,18,19,20,21,22,23,24,25,26,27,28,29,30,31,32,33,34,35]], 1, inplace=True)\n"
     ]
    }
   ],
   "source": [
    "new_df.drop(new_df.columns[[11,12,13,14,15,16,17,18,19,20,21,22,23,24,25,26,27,28,29,30,31,32,33,34,35]], 1, inplace=True)"
   ]
  },
  {
   "cell_type": "code",
   "execution_count": 17,
   "id": "c9967b98",
   "metadata": {},
   "outputs": [
    {
     "name": "stdout",
     "output_type": "stream",
     "text": [
      "<class 'pandas.core.frame.DataFrame'>\n",
      "Int64Index: 1154 entries, 0 to 7114\n",
      "Data columns (total 12 columns):\n",
      " #   Column  Non-Null Count  Dtype \n",
      "---  ------  --------------  ----- \n",
      " 0   0       1154 non-null   object\n",
      " 1   1       1121 non-null   object\n",
      " 2   2       1106 non-null   object\n",
      " 3   3       1097 non-null   object\n",
      " 4   4       1093 non-null   object\n",
      " 5   5       1091 non-null   object\n",
      " 6   6       1089 non-null   object\n",
      " 7   7       1088 non-null   object\n",
      " 8   8       1082 non-null   object\n",
      " 9   9       935 non-null    object\n",
      " 10  10      284 non-null    object\n",
      " 11  36      1 non-null      object\n",
      "dtypes: object(12)\n",
      "memory usage: 117.2+ KB\n"
     ]
    }
   ],
   "source": [
    "new_df.info()"
   ]
  },
  {
   "cell_type": "code",
   "execution_count": 19,
   "id": "85bfc0c5",
   "metadata": {},
   "outputs": [],
   "source": [
    "df2[['code','item','codeE','item_name','address','amount','info','contact','characteristic']] = new_df[[0,1,2,3,4,5,6,7,8]]"
   ]
  },
  {
   "cell_type": "code",
   "execution_count": 20,
   "id": "c0ca7c15",
   "metadata": {},
   "outputs": [],
   "source": [
    "pd.unique(df2[['characteristic']].values.ravel())\n",
    "del df2['characteristic']\n",
    "del df2['contact']"
   ]
  },
  {
   "cell_type": "code",
   "execution_count": 21,
   "id": "f3d090ab",
   "metadata": {},
   "outputs": [
    {
     "data": {
      "text/html": [
       "<div>\n",
       "<style scoped>\n",
       "    .dataframe tbody tr th:only-of-type {\n",
       "        vertical-align: middle;\n",
       "    }\n",
       "\n",
       "    .dataframe tbody tr th {\n",
       "        vertical-align: top;\n",
       "    }\n",
       "\n",
       "    .dataframe thead th {\n",
       "        text-align: right;\n",
       "    }\n",
       "</style>\n",
       "<table border=\"1\" class=\"dataframe\">\n",
       "  <thead>\n",
       "    <tr style=\"text-align: right;\">\n",
       "      <th></th>\n",
       "      <th>id</th>\n",
       "      <th>date</th>\n",
       "      <th>message</th>\n",
       "      <th>views</th>\n",
       "      <th>forwards</th>\n",
       "      <th>edit_date</th>\n",
       "      <th>code</th>\n",
       "      <th>item</th>\n",
       "      <th>codeE</th>\n",
       "      <th>item_name</th>\n",
       "      <th>address</th>\n",
       "      <th>amount</th>\n",
       "      <th>info</th>\n",
       "    </tr>\n",
       "  </thead>\n",
       "  <tbody>\n",
       "    <tr>\n",
       "      <th>0</th>\n",
       "      <td>7658</td>\n",
       "      <td>2022-12-26</td>\n",
       "      <td>کـــود\\n0-H323\\n\\n حويلي \\n مزارشريف: چوك نور\\...</td>\n",
       "      <td>287.0</td>\n",
       "      <td>0.0</td>\n",
       "      <td>NaN</td>\n",
       "      <td>کـــود</td>\n",
       "      <td>0-H323</td>\n",
       "      <td></td>\n",
       "      <td>حويلي</td>\n",
       "      <td>مزارشريف: چوك نور</td>\n",
       "      <td>فروش | 55000$  با جور آمد</td>\n",
       "      <td>براي معلومات و ثبت زمین</td>\n",
       "    </tr>\n",
       "    <tr>\n",
       "      <th>5</th>\n",
       "      <td>7653</td>\n",
       "      <td>2022-12-26</td>\n",
       "      <td>کـــود\\n1-H11\\n\\n حویلی \\n کابل: چهلستون \\n فر...</td>\n",
       "      <td>567.0</td>\n",
       "      <td>0.0</td>\n",
       "      <td>2022-12-26</td>\n",
       "      <td>کـــود</td>\n",
       "      <td>1-H11</td>\n",
       "      <td></td>\n",
       "      <td>حویلی</td>\n",
       "      <td>کابل: چهلستون</td>\n",
       "      <td>فروش | 90,000$ با جور آمد</td>\n",
       "      <td>براي معلومات و ثبت زمین</td>\n",
       "    </tr>\n",
       "    <tr>\n",
       "      <th>11</th>\n",
       "      <td>7647</td>\n",
       "      <td>2022-12-25</td>\n",
       "      <td>کـــود\\n0-H347\\n\\n حويلي \\n مزارشريف: پروزه S\\...</td>\n",
       "      <td>1094.0</td>\n",
       "      <td>0.0</td>\n",
       "      <td>2022-12-25</td>\n",
       "      <td>کـــود</td>\n",
       "      <td>0-H347</td>\n",
       "      <td></td>\n",
       "      <td>حويلي</td>\n",
       "      <td>مزارشريف: پروزه S</td>\n",
       "      <td>فروش | 58000$ با جور آمد</td>\n",
       "      <td>براي معلومات و ثبت زمین</td>\n",
       "    </tr>\n",
       "    <tr>\n",
       "      <th>19</th>\n",
       "      <td>7639</td>\n",
       "      <td>2022-12-25</td>\n",
       "      <td>کـــود\\n1-B27\\n\\n حویلی \\n کابل: سرکوتل\\n فروش...</td>\n",
       "      <td>1266.0</td>\n",
       "      <td>0.0</td>\n",
       "      <td>2022-12-25</td>\n",
       "      <td>کـــود</td>\n",
       "      <td>1-B27</td>\n",
       "      <td></td>\n",
       "      <td>حویلی</td>\n",
       "      <td>کابل: سرکوتل</td>\n",
       "      <td>فروش | 10,000$ با جور آمد</td>\n",
       "      <td>براي معلومات و ثبت زمین</td>\n",
       "    </tr>\n",
       "    <tr>\n",
       "      <th>21</th>\n",
       "      <td>7637</td>\n",
       "      <td>2022-12-24</td>\n",
       "      <td>کـــود\\n0-H318\\n\\n حويلي \\n مزارشريف: شهرك خال...</td>\n",
       "      <td>1425.0</td>\n",
       "      <td>0.0</td>\n",
       "      <td>2022-12-25</td>\n",
       "      <td>کـــود</td>\n",
       "      <td>0-H318</td>\n",
       "      <td></td>\n",
       "      <td>حويلي</td>\n",
       "      <td>مزارشريف: شهرك خالد</td>\n",
       "      <td>فروش | 65000$  با جور آمد</td>\n",
       "      <td>براي معلومات و ثبت زمین</td>\n",
       "    </tr>\n",
       "  </tbody>\n",
       "</table>\n",
       "</div>"
      ],
      "text/plain": [
       "      id        date                                            message  \\\n",
       "0   7658  2022-12-26  کـــود\\n0-H323\\n\\n حويلي \\n مزارشريف: چوك نور\\...   \n",
       "5   7653  2022-12-26  کـــود\\n1-H11\\n\\n حویلی \\n کابل: چهلستون \\n فر...   \n",
       "11  7647  2022-12-25  کـــود\\n0-H347\\n\\n حويلي \\n مزارشريف: پروزه S\\...   \n",
       "19  7639  2022-12-25  کـــود\\n1-B27\\n\\n حویلی \\n کابل: سرکوتل\\n فروش...   \n",
       "21  7637  2022-12-24  کـــود\\n0-H318\\n\\n حويلي \\n مزارشريف: شهرك خال...   \n",
       "\n",
       "     views  forwards   edit_date    code    item codeE item_name  \\\n",
       "0    287.0       0.0         NaN  کـــود  0-H323          حويلي    \n",
       "5    567.0       0.0  2022-12-26  کـــود   1-H11          حویلی    \n",
       "11  1094.0       0.0  2022-12-25  کـــود  0-H347          حويلي    \n",
       "19  1266.0       0.0  2022-12-25  کـــود   1-B27          حویلی    \n",
       "21  1425.0       0.0  2022-12-25  کـــود  0-H318          حويلي    \n",
       "\n",
       "                 address                         amount  \\\n",
       "0      مزارشريف: چوك نور   فروش | 55000$  با جور آمد      \n",
       "5         کابل: چهلستون    فروش | 90,000$ با جور آمد      \n",
       "11     مزارشريف: پروزه S    فروش | 58000$ با جور آمد      \n",
       "19          کابل: سرکوتل   فروش | 10,000$ با جور آمد      \n",
       "21   مزارشريف: شهرك خالد   فروش | 65000$  با جور آمد      \n",
       "\n",
       "                         info  \n",
       "0    براي معلومات و ثبت زمین   \n",
       "5    براي معلومات و ثبت زمین   \n",
       "11   براي معلومات و ثبت زمین   \n",
       "19   براي معلومات و ثبت زمین   \n",
       "21   براي معلومات و ثبت زمین   "
      ]
     },
     "execution_count": 21,
     "metadata": {},
     "output_type": "execute_result"
    }
   ],
   "source": [
    "df2.head()"
   ]
  },
  {
   "cell_type": "code",
   "execution_count": 22,
   "id": "01e6e7f5",
   "metadata": {},
   "outputs": [
    {
     "data": {
      "text/html": [
       "<div>\n",
       "<style scoped>\n",
       "    .dataframe tbody tr th:only-of-type {\n",
       "        vertical-align: middle;\n",
       "    }\n",
       "\n",
       "    .dataframe tbody tr th {\n",
       "        vertical-align: top;\n",
       "    }\n",
       "\n",
       "    .dataframe thead th {\n",
       "        text-align: right;\n",
       "    }\n",
       "</style>\n",
       "<table border=\"1\" class=\"dataframe\">\n",
       "  <thead>\n",
       "    <tr style=\"text-align: right;\">\n",
       "      <th></th>\n",
       "      <th>id</th>\n",
       "      <th>date</th>\n",
       "      <th>message</th>\n",
       "      <th>views</th>\n",
       "      <th>forwards</th>\n",
       "      <th>edit_date</th>\n",
       "      <th>code</th>\n",
       "      <th>item</th>\n",
       "      <th>codeE</th>\n",
       "      <th>item_name</th>\n",
       "      <th>address</th>\n",
       "      <th>amount</th>\n",
       "      <th>info</th>\n",
       "    </tr>\n",
       "  </thead>\n",
       "  <tbody>\n",
       "    <tr>\n",
       "      <th>0</th>\n",
       "      <td>7658</td>\n",
       "      <td>2022-12-26</td>\n",
       "      <td>کـــود\\n0-H323\\n\\n حويلي \\n مزارشريف: چوك نور\\...</td>\n",
       "      <td>287.0</td>\n",
       "      <td>0.0</td>\n",
       "      <td>NaN</td>\n",
       "      <td>کـــود</td>\n",
       "      <td>0-H323</td>\n",
       "      <td></td>\n",
       "      <td>حويلي</td>\n",
       "      <td>مزارشريف: چوك نور</td>\n",
       "      <td>فروش | 55000$  با جور آمد</td>\n",
       "      <td>براي معلومات و ثبت زمین</td>\n",
       "    </tr>\n",
       "    <tr>\n",
       "      <th>5</th>\n",
       "      <td>7653</td>\n",
       "      <td>2022-12-26</td>\n",
       "      <td>کـــود\\n1-H11\\n\\n حویلی \\n کابل: چهلستون \\n فر...</td>\n",
       "      <td>567.0</td>\n",
       "      <td>0.0</td>\n",
       "      <td>2022-12-26</td>\n",
       "      <td>کـــود</td>\n",
       "      <td>1-H11</td>\n",
       "      <td></td>\n",
       "      <td>حویلی</td>\n",
       "      <td>کابل: چهلستون</td>\n",
       "      <td>فروش | 90,000$ با جور آمد</td>\n",
       "      <td>براي معلومات و ثبت زمین</td>\n",
       "    </tr>\n",
       "    <tr>\n",
       "      <th>11</th>\n",
       "      <td>7647</td>\n",
       "      <td>2022-12-25</td>\n",
       "      <td>کـــود\\n0-H347\\n\\n حويلي \\n مزارشريف: پروزه S\\...</td>\n",
       "      <td>1094.0</td>\n",
       "      <td>0.0</td>\n",
       "      <td>2022-12-25</td>\n",
       "      <td>کـــود</td>\n",
       "      <td>0-H347</td>\n",
       "      <td></td>\n",
       "      <td>حويلي</td>\n",
       "      <td>مزارشريف: پروزه S</td>\n",
       "      <td>فروش | 58000$ با جور آمد</td>\n",
       "      <td>براي معلومات و ثبت زمین</td>\n",
       "    </tr>\n",
       "    <tr>\n",
       "      <th>19</th>\n",
       "      <td>7639</td>\n",
       "      <td>2022-12-25</td>\n",
       "      <td>کـــود\\n1-B27\\n\\n حویلی \\n کابل: سرکوتل\\n فروش...</td>\n",
       "      <td>1266.0</td>\n",
       "      <td>0.0</td>\n",
       "      <td>2022-12-25</td>\n",
       "      <td>کـــود</td>\n",
       "      <td>1-B27</td>\n",
       "      <td></td>\n",
       "      <td>حویلی</td>\n",
       "      <td>کابل: سرکوتل</td>\n",
       "      <td>فروش | 10,000$ با جور آمد</td>\n",
       "      <td>براي معلومات و ثبت زمین</td>\n",
       "    </tr>\n",
       "    <tr>\n",
       "      <th>21</th>\n",
       "      <td>7637</td>\n",
       "      <td>2022-12-24</td>\n",
       "      <td>کـــود\\n0-H318\\n\\n حويلي \\n مزارشريف: شهرك خال...</td>\n",
       "      <td>1425.0</td>\n",
       "      <td>0.0</td>\n",
       "      <td>2022-12-25</td>\n",
       "      <td>کـــود</td>\n",
       "      <td>0-H318</td>\n",
       "      <td></td>\n",
       "      <td>حويلي</td>\n",
       "      <td>مزارشريف: شهرك خالد</td>\n",
       "      <td>فروش | 65000$  با جور آمد</td>\n",
       "      <td>براي معلومات و ثبت زمین</td>\n",
       "    </tr>\n",
       "    <tr>\n",
       "      <th>...</th>\n",
       "      <td>...</td>\n",
       "      <td>...</td>\n",
       "      <td>...</td>\n",
       "      <td>...</td>\n",
       "      <td>...</td>\n",
       "      <td>...</td>\n",
       "      <td>...</td>\n",
       "      <td>...</td>\n",
       "      <td>...</td>\n",
       "      <td>...</td>\n",
       "      <td>...</td>\n",
       "      <td>...</td>\n",
       "      <td>...</td>\n",
       "    </tr>\n",
       "    <tr>\n",
       "      <th>7106</th>\n",
       "      <td>21</td>\n",
       "      <td>2021-03-21</td>\n",
       "      <td>Mudir sahub shro ko da hami</td>\n",
       "      <td>157.0</td>\n",
       "      <td>0.0</td>\n",
       "      <td>NaN</td>\n",
       "      <td>Mudir sahub shro ko da hami</td>\n",
       "      <td>None</td>\n",
       "      <td>None</td>\n",
       "      <td>None</td>\n",
       "      <td>None</td>\n",
       "      <td>None</td>\n",
       "      <td>None</td>\n",
       "    </tr>\n",
       "    <tr>\n",
       "      <th>7108</th>\n",
       "      <td>17</td>\n",
       "      <td>2021-02-15</td>\n",
       "      <td>۲ نمره (فروشی)\\n\\nCod K4 | کود \\nموقعیت: مزارش...</td>\n",
       "      <td>169.0</td>\n",
       "      <td>0.0</td>\n",
       "      <td>2021-02-15</td>\n",
       "      <td>۲ نمره (فروشی)</td>\n",
       "      <td></td>\n",
       "      <td>Cod K4 | کود</td>\n",
       "      <td>موقعیت: مزارشریف، پل تصدی ، شهرک متحد ، سرک دوم</td>\n",
       "      <td></td>\n",
       "      <td>مساحت مجموعه ۲ نمره (900) فی نمره  450 متر</td>\n",
       "      <td></td>\n",
       "    </tr>\n",
       "    <tr>\n",
       "      <th>7109</th>\n",
       "      <td>16</td>\n",
       "      <td>2021-02-15</td>\n",
       "      <td>زمین (فروشی)\\n\\nCod K5 | کود \\nموقعیت:مزارشریف...</td>\n",
       "      <td>165.0</td>\n",
       "      <td>0.0</td>\n",
       "      <td>2021-02-15</td>\n",
       "      <td>زمین (فروشی)</td>\n",
       "      <td></td>\n",
       "      <td>Cod K5 | کود</td>\n",
       "      <td>موقعیت:مزارشریف ،چهاراهی محب ، مقابل کوچه آهنگ...</td>\n",
       "      <td></td>\n",
       "      <td>مساحت 600 متر مربع</td>\n",
       "      <td></td>\n",
       "    </tr>\n",
       "    <tr>\n",
       "      <th>7110</th>\n",
       "      <td>15</td>\n",
       "      <td>2021-02-07</td>\n",
       "      <td>زمین ( فروشی ) \\n\\nCod( k1 )\\nآدرس: مزارشریف ،...</td>\n",
       "      <td>162.0</td>\n",
       "      <td>0.0</td>\n",
       "      <td>2021-02-07</td>\n",
       "      <td>زمین ( فروشی )</td>\n",
       "      <td></td>\n",
       "      <td>Cod( k1 )</td>\n",
       "      <td>آدرس: مزارشریف ، جوار شفاخانه ۲۰۰ بستر مقابل ه...</td>\n",
       "      <td></td>\n",
       "      <td>مساحت 796 متر</td>\n",
       "      <td>( 32.5 داخل کوچه | لب سرک 24.5 )</td>\n",
       "    </tr>\n",
       "    <tr>\n",
       "      <th>7114</th>\n",
       "      <td>11</td>\n",
       "      <td>2021-01-13</td>\n",
       "      <td>1\\n\\nآپارتمان هاي فروشي \\nبلاك هاي رهايشي اتحا...</td>\n",
       "      <td>158.0</td>\n",
       "      <td>0.0</td>\n",
       "      <td>2021-01-13</td>\n",
       "      <td>1</td>\n",
       "      <td></td>\n",
       "      <td>آپارتمان هاي فروشي</td>\n",
       "      <td>بلاك هاي رهايشي اتحاد</td>\n",
       "      <td></td>\n",
       "      <td></td>\n",
       "      <td>طبقه :8 منزل</td>\n",
       "    </tr>\n",
       "  </tbody>\n",
       "</table>\n",
       "<p>1154 rows × 13 columns</p>\n",
       "</div>"
      ],
      "text/plain": [
       "        id        date                                            message  \\\n",
       "0     7658  2022-12-26  کـــود\\n0-H323\\n\\n حويلي \\n مزارشريف: چوك نور\\...   \n",
       "5     7653  2022-12-26  کـــود\\n1-H11\\n\\n حویلی \\n کابل: چهلستون \\n فر...   \n",
       "11    7647  2022-12-25  کـــود\\n0-H347\\n\\n حويلي \\n مزارشريف: پروزه S\\...   \n",
       "19    7639  2022-12-25  کـــود\\n1-B27\\n\\n حویلی \\n کابل: سرکوتل\\n فروش...   \n",
       "21    7637  2022-12-24  کـــود\\n0-H318\\n\\n حويلي \\n مزارشريف: شهرك خال...   \n",
       "...    ...         ...                                                ...   \n",
       "7106    21  2021-03-21                        Mudir sahub shro ko da hami   \n",
       "7108    17  2021-02-15  ۲ نمره (فروشی)\\n\\nCod K4 | کود \\nموقعیت: مزارش...   \n",
       "7109    16  2021-02-15  زمین (فروشی)\\n\\nCod K5 | کود \\nموقعیت:مزارشریف...   \n",
       "7110    15  2021-02-07  زمین ( فروشی ) \\n\\nCod( k1 )\\nآدرس: مزارشریف ،...   \n",
       "7114    11  2021-01-13  1\\n\\nآپارتمان هاي فروشي \\nبلاك هاي رهايشي اتحا...   \n",
       "\n",
       "       views  forwards   edit_date                         code    item  \\\n",
       "0      287.0       0.0         NaN                       کـــود  0-H323   \n",
       "5      567.0       0.0  2022-12-26                       کـــود   1-H11   \n",
       "11    1094.0       0.0  2022-12-25                       کـــود  0-H347   \n",
       "19    1266.0       0.0  2022-12-25                       کـــود   1-B27   \n",
       "21    1425.0       0.0  2022-12-25                       کـــود  0-H318   \n",
       "...      ...       ...         ...                          ...     ...   \n",
       "7106   157.0       0.0         NaN  Mudir sahub shro ko da hami    None   \n",
       "7108   169.0       0.0  2021-02-15               ۲ نمره (فروشی)           \n",
       "7109   165.0       0.0  2021-02-15                 زمین (فروشی)           \n",
       "7110   162.0       0.0  2021-02-07              زمین ( فروشی )            \n",
       "7114   158.0       0.0  2021-01-13                            1           \n",
       "\n",
       "                    codeE                                          item_name  \\\n",
       "0                                                                     حويلي    \n",
       "5                                                                     حویلی    \n",
       "11                                                                    حويلي    \n",
       "19                                                                    حویلی    \n",
       "21                                                                    حويلي    \n",
       "...                   ...                                                ...   \n",
       "7106                 None                                               None   \n",
       "7108        Cod K4 | کود   موقعیت: مزارشریف، پل تصدی ، شهرک متحد ، سرک دوم     \n",
       "7109        Cod K5 | کود   موقعیت:مزارشریف ،چهاراهی محب ، مقابل کوچه آهنگ...   \n",
       "7110            Cod( k1 )  آدرس: مزارشریف ، جوار شفاخانه ۲۰۰ بستر مقابل ه...   \n",
       "7114  آپارتمان هاي فروشي                              بلاك هاي رهايشي اتحاد    \n",
       "\n",
       "                   address                                       amount  \\\n",
       "0        مزارشريف: چوك نور                 فروش | 55000$  با جور آمد      \n",
       "5           کابل: چهلستون                  فروش | 90,000$ با جور آمد      \n",
       "11       مزارشريف: پروزه S                  فروش | 58000$ با جور آمد      \n",
       "19            کابل: سرکوتل                 فروش | 10,000$ با جور آمد      \n",
       "21     مزارشريف: شهرك خالد                 فروش | 65000$  با جور آمد      \n",
       "...                    ...                                          ...   \n",
       "7106                  None                                         None   \n",
       "7108                        مساحت مجموعه ۲ نمره (900) فی نمره  450 متر    \n",
       "7109                                                مساحت 600 متر مربع    \n",
       "7110                                                     مساحت 796 متر    \n",
       "7114                                                                      \n",
       "\n",
       "                                  info  \n",
       "0             براي معلومات و ثبت زمین   \n",
       "5             براي معلومات و ثبت زمین   \n",
       "11            براي معلومات و ثبت زمین   \n",
       "19            براي معلومات و ثبت زمین   \n",
       "21            براي معلومات و ثبت زمین   \n",
       "...                                ...  \n",
       "7106                              None  \n",
       "7108                                    \n",
       "7109                                    \n",
       "7110  ( 32.5 داخل کوچه | لب سرک 24.5 )  \n",
       "7114                      طبقه :8 منزل  \n",
       "\n",
       "[1154 rows x 13 columns]"
      ]
     },
     "execution_count": 22,
     "metadata": {},
     "output_type": "execute_result"
    }
   ],
   "source": [
    "# define value to search for\n",
    "str_pattern = \"دلار\"\n",
    "\n",
    "# row by row check for the string pattern in the row values\n",
    "filt = (df2.apply(lambda r: r.astype('string').str.contains(str_pattern).any(), axis=1))\n",
    "\n",
    "df2[~filt]"
   ]
  },
  {
   "cell_type": "code",
   "execution_count": 270,
   "id": "15fe06bb",
   "metadata": {},
   "outputs": [],
   "source": [
    "#export the parsed data to excel to manipulate some changes.\n",
    "df2.to_excel(r'df2.xlsx', index=False)"
   ]
  },
  {
   "cell_type": "code",
   "execution_count": 36,
   "id": "4673a4f6",
   "metadata": {},
   "outputs": [
    {
     "data": {
      "text/html": [
       "<div>\n",
       "<style scoped>\n",
       "    .dataframe tbody tr th:only-of-type {\n",
       "        vertical-align: middle;\n",
       "    }\n",
       "\n",
       "    .dataframe tbody tr th {\n",
       "        vertical-align: top;\n",
       "    }\n",
       "\n",
       "    .dataframe thead th {\n",
       "        text-align: right;\n",
       "    }\n",
       "</style>\n",
       "<table border=\"1\" class=\"dataframe\">\n",
       "  <thead>\n",
       "    <tr style=\"text-align: right;\">\n",
       "      <th></th>\n",
       "      <th>id</th>\n",
       "      <th>date</th>\n",
       "      <th>views</th>\n",
       "      <th>forwards</th>\n",
       "      <th>edit_date</th>\n",
       "      <th>item</th>\n",
       "      <th>item_name</th>\n",
       "      <th>address</th>\n",
       "      <th>amount</th>\n",
       "      <th>currency</th>\n",
       "    </tr>\n",
       "  </thead>\n",
       "  <tbody>\n",
       "    <tr>\n",
       "      <th>0</th>\n",
       "      <td>7658</td>\n",
       "      <td>2022-12-26</td>\n",
       "      <td>287</td>\n",
       "      <td>0</td>\n",
       "      <td>NaN</td>\n",
       "      <td>0-H323</td>\n",
       "      <td>حويلي</td>\n",
       "      <td>مزارشريف: چوك نور</td>\n",
       "      <td>فروش | 55000$  با جور آمد</td>\n",
       "      <td>Dollar</td>\n",
       "    </tr>\n",
       "    <tr>\n",
       "      <th>1</th>\n",
       "      <td>7653</td>\n",
       "      <td>2022-12-26</td>\n",
       "      <td>567</td>\n",
       "      <td>0</td>\n",
       "      <td>2022-12-26</td>\n",
       "      <td>1-H11</td>\n",
       "      <td>حویلی</td>\n",
       "      <td>کابل: چهلستون</td>\n",
       "      <td>فروش | 90,000$ با جور آمد</td>\n",
       "      <td>Dollar</td>\n",
       "    </tr>\n",
       "    <tr>\n",
       "      <th>2</th>\n",
       "      <td>7647</td>\n",
       "      <td>2022-12-25</td>\n",
       "      <td>1094</td>\n",
       "      <td>0</td>\n",
       "      <td>2022-12-25</td>\n",
       "      <td>0-H347</td>\n",
       "      <td>حويلي</td>\n",
       "      <td>مزارشريف: پروزه S</td>\n",
       "      <td>فروش | 58000$ با جور آمد</td>\n",
       "      <td>Dollar</td>\n",
       "    </tr>\n",
       "    <tr>\n",
       "      <th>3</th>\n",
       "      <td>7639</td>\n",
       "      <td>2022-12-25</td>\n",
       "      <td>1266</td>\n",
       "      <td>0</td>\n",
       "      <td>2022-12-25</td>\n",
       "      <td>1-B27</td>\n",
       "      <td>حویلی</td>\n",
       "      <td>کابل: سرکوتل</td>\n",
       "      <td>فروش | 10,000$ با جور آمد</td>\n",
       "      <td>Dollar</td>\n",
       "    </tr>\n",
       "    <tr>\n",
       "      <th>4</th>\n",
       "      <td>7637</td>\n",
       "      <td>2022-12-24</td>\n",
       "      <td>1425</td>\n",
       "      <td>0</td>\n",
       "      <td>2022-12-25</td>\n",
       "      <td>0-H318</td>\n",
       "      <td>حويلي</td>\n",
       "      <td>مزارشريف: شهرك خالد</td>\n",
       "      <td>فروش | 65000$  با جور آمد</td>\n",
       "      <td>Dollar</td>\n",
       "    </tr>\n",
       "  </tbody>\n",
       "</table>\n",
       "</div>"
      ],
      "text/plain": [
       "     id        date  views  forwards   edit_date    item item_name  \\\n",
       "0  7658  2022-12-26    287         0         NaN  0-H323    حويلي    \n",
       "1  7653  2022-12-26    567         0  2022-12-26   1-H11    حویلی    \n",
       "2  7647  2022-12-25   1094         0  2022-12-25  0-H347    حويلي    \n",
       "3  7639  2022-12-25   1266         0  2022-12-25   1-B27    حویلی    \n",
       "4  7637  2022-12-24   1425         0  2022-12-25  0-H318    حويلي    \n",
       "\n",
       "                address                         amount currency  \n",
       "0     مزارشريف: چوك نور   فروش | 55000$  با جور آمد      Dollar  \n",
       "1        کابل: چهلستون    فروش | 90,000$ با جور آمد      Dollar  \n",
       "2     مزارشريف: پروزه S    فروش | 58000$ با جور آمد      Dollar  \n",
       "3          کابل: سرکوتل   فروش | 10,000$ با جور آمد      Dollar  \n",
       "4   مزارشريف: شهرك خالد   فروش | 65000$  با جور آمد      Dollar  "
      ]
     },
     "execution_count": 36,
     "metadata": {},
     "output_type": "execute_result"
    }
   ],
   "source": [
    "#some columns like currency and some other changes added during the analyzing in excel.\n",
    "df_ready = pd.read_csv(r'zamin_ds.csv')\n",
    "df_ready.head()"
   ]
  },
  {
   "cell_type": "code",
   "execution_count": 37,
   "id": "81185c26",
   "metadata": {},
   "outputs": [
    {
     "name": "stderr",
     "output_type": "stream",
     "text": [
      "/var/folders/1t/4z7v2tfd7gj2lkck1drksp800000gp/T/ipykernel_75614/3409795727.py:2: FutureWarning: The default value of regex will change from True to False in a future version.\n",
      "  df_ready['amount'] = df_ready['amount'].str.replace('\\D+', '')\n"
     ]
    },
    {
     "data": {
      "text/html": [
       "<div>\n",
       "<style scoped>\n",
       "    .dataframe tbody tr th:only-of-type {\n",
       "        vertical-align: middle;\n",
       "    }\n",
       "\n",
       "    .dataframe tbody tr th {\n",
       "        vertical-align: top;\n",
       "    }\n",
       "\n",
       "    .dataframe thead th {\n",
       "        text-align: right;\n",
       "    }\n",
       "</style>\n",
       "<table border=\"1\" class=\"dataframe\">\n",
       "  <thead>\n",
       "    <tr style=\"text-align: right;\">\n",
       "      <th></th>\n",
       "      <th>id</th>\n",
       "      <th>date</th>\n",
       "      <th>views</th>\n",
       "      <th>forwards</th>\n",
       "      <th>edit_date</th>\n",
       "      <th>item</th>\n",
       "      <th>item_name</th>\n",
       "      <th>address</th>\n",
       "      <th>amount</th>\n",
       "      <th>currency</th>\n",
       "    </tr>\n",
       "  </thead>\n",
       "  <tbody>\n",
       "    <tr>\n",
       "      <th>0</th>\n",
       "      <td>7658</td>\n",
       "      <td>2022-12-26</td>\n",
       "      <td>287</td>\n",
       "      <td>0</td>\n",
       "      <td>NaN</td>\n",
       "      <td>0-H323</td>\n",
       "      <td>حويلي</td>\n",
       "      <td>مزارشريف: چوك نور</td>\n",
       "      <td>55000</td>\n",
       "      <td>Dollar</td>\n",
       "    </tr>\n",
       "    <tr>\n",
       "      <th>1</th>\n",
       "      <td>7653</td>\n",
       "      <td>2022-12-26</td>\n",
       "      <td>567</td>\n",
       "      <td>0</td>\n",
       "      <td>2022-12-26</td>\n",
       "      <td>1-H11</td>\n",
       "      <td>حویلی</td>\n",
       "      <td>کابل: چهلستون</td>\n",
       "      <td>90000</td>\n",
       "      <td>Dollar</td>\n",
       "    </tr>\n",
       "    <tr>\n",
       "      <th>2</th>\n",
       "      <td>7647</td>\n",
       "      <td>2022-12-25</td>\n",
       "      <td>1094</td>\n",
       "      <td>0</td>\n",
       "      <td>2022-12-25</td>\n",
       "      <td>0-H347</td>\n",
       "      <td>حويلي</td>\n",
       "      <td>مزارشريف: پروزه S</td>\n",
       "      <td>58000</td>\n",
       "      <td>Dollar</td>\n",
       "    </tr>\n",
       "    <tr>\n",
       "      <th>3</th>\n",
       "      <td>7639</td>\n",
       "      <td>2022-12-25</td>\n",
       "      <td>1266</td>\n",
       "      <td>0</td>\n",
       "      <td>2022-12-25</td>\n",
       "      <td>1-B27</td>\n",
       "      <td>حویلی</td>\n",
       "      <td>کابل: سرکوتل</td>\n",
       "      <td>10000</td>\n",
       "      <td>Dollar</td>\n",
       "    </tr>\n",
       "    <tr>\n",
       "      <th>4</th>\n",
       "      <td>7637</td>\n",
       "      <td>2022-12-24</td>\n",
       "      <td>1425</td>\n",
       "      <td>0</td>\n",
       "      <td>2022-12-25</td>\n",
       "      <td>0-H318</td>\n",
       "      <td>حويلي</td>\n",
       "      <td>مزارشريف: شهرك خالد</td>\n",
       "      <td>65000</td>\n",
       "      <td>Dollar</td>\n",
       "    </tr>\n",
       "  </tbody>\n",
       "</table>\n",
       "</div>"
      ],
      "text/plain": [
       "     id        date  views  forwards   edit_date    item item_name  \\\n",
       "0  7658  2022-12-26    287         0         NaN  0-H323    حويلي    \n",
       "1  7653  2022-12-26    567         0  2022-12-26   1-H11    حویلی    \n",
       "2  7647  2022-12-25   1094         0  2022-12-25  0-H347    حويلي    \n",
       "3  7639  2022-12-25   1266         0  2022-12-25   1-B27    حویلی    \n",
       "4  7637  2022-12-24   1425         0  2022-12-25  0-H318    حويلي    \n",
       "\n",
       "                address amount currency  \n",
       "0     مزارشريف: چوك نور  55000   Dollar  \n",
       "1        کابل: چهلستون   90000   Dollar  \n",
       "2     مزارشريف: پروزه S  58000   Dollar  \n",
       "3          کابل: سرکوتل  10000   Dollar  \n",
       "4   مزارشريف: شهرك خالد  65000   Dollar  "
      ]
     },
     "execution_count": 37,
     "metadata": {},
     "output_type": "execute_result"
    }
   ],
   "source": [
    "#remove all characters except numbers from the amount column\n",
    "df_ready['amount'] = df_ready['amount'].str.replace('\\D+', '')\n",
    "df_ready.head()"
   ]
  },
  {
   "cell_type": "code",
   "execution_count": 26,
   "id": "325d55e4",
   "metadata": {},
   "outputs": [
    {
     "data": {
      "text/plain": [
       "0       $55000.0\n",
       "1       $90000.0\n",
       "2       $58000.0\n",
       "3       $10000.0\n",
       "4       $65000.0\n",
       "         ...    \n",
       "829     $15000.0\n",
       "830     $45000.0\n",
       "831    $350000.0\n",
       "832     $95000.0\n",
       "833     $10000.0\n",
       "Name: amount, Length: 834, dtype: object"
      ]
     },
     "execution_count": 26,
     "metadata": {},
     "output_type": "execute_result"
    }
   ],
   "source": [
    "#do not run this command when you realy do not need the currency\n",
    "#remove no value and add Dollar sign on the data\n",
    "df_ready['amount'].replace('', np.nan, inplace=True)\n",
    "df_ready[\"amount\"].astype(float).apply(lambda x: \"${:.1f}\".format(x))"
   ]
  },
  {
   "cell_type": "code",
   "execution_count": 25,
   "id": "1c548c69",
   "metadata": {},
   "outputs": [
    {
     "data": {
      "text/plain": [
       "0      False\n",
       "1      False\n",
       "2      False\n",
       "3      False\n",
       "4      False\n",
       "       ...  \n",
       "829    False\n",
       "830    False\n",
       "831    False\n",
       "832    False\n",
       "833    False\n",
       "Name: amount, Length: 834, dtype: bool"
      ]
     },
     "execution_count": 25,
     "metadata": {},
     "output_type": "execute_result"
    }
   ],
   "source": [
    "df_ready['amount'].isnull()"
   ]
  },
  {
   "cell_type": "code",
   "execution_count": 178,
   "id": "401d3fd9",
   "metadata": {},
   "outputs": [],
   "source": [
    "#df_ready['amount'] = df_ready['amount'].astype(float).apply(lambda x: \"${:.0f}\".format((x)))"
   ]
  },
  {
   "cell_type": "code",
   "execution_count": 29,
   "id": "577b0cba",
   "metadata": {},
   "outputs": [
    {
     "name": "stdout",
     "output_type": "stream",
     "text": [
      "<class 'pandas.core.frame.DataFrame'>\n",
      "Int64Index: 64 entries, 49 to 713\n",
      "Data columns (total 10 columns):\n",
      " #   Column     Non-Null Count  Dtype \n",
      "---  ------     --------------  ----- \n",
      " 0   id         64 non-null     int64 \n",
      " 1   date       64 non-null     object\n",
      " 2   views      64 non-null     int64 \n",
      " 3   forwards   64 non-null     int64 \n",
      " 4   edit_date  60 non-null     object\n",
      " 5   item       64 non-null     object\n",
      " 6   item_name  64 non-null     object\n",
      " 7   address    64 non-null     object\n",
      " 8   amount     64 non-null     object\n",
      " 9   currency   64 non-null     object\n",
      "dtypes: int64(3), object(7)\n",
      "memory usage: 5.5+ KB\n"
     ]
    }
   ],
   "source": [
    "#df_ready['item_name'].replace('', np.nan, inplace=True)\n",
    "df_land = df_ready[df_ready['item_name'].astype(str).str.contains('زمین')]\n",
    "df_land.info()"
   ]
  },
  {
   "cell_type": "code",
   "execution_count": 38,
   "id": "4a007e0e",
   "metadata": {},
   "outputs": [
    {
     "name": "stdout",
     "output_type": "stream",
     "text": [
      "<class 'pandas.core.frame.DataFrame'>\n",
      "Int64Index: 204 entries, 1 to 784\n",
      "Data columns (total 10 columns):\n",
      " #   Column     Non-Null Count  Dtype \n",
      "---  ------     --------------  ----- \n",
      " 0   id         204 non-null    int64 \n",
      " 1   date       204 non-null    object\n",
      " 2   views      204 non-null    int64 \n",
      " 3   forwards   204 non-null    int64 \n",
      " 4   edit_date  193 non-null    object\n",
      " 5   item       203 non-null    object\n",
      " 6   item_name  204 non-null    object\n",
      " 7   address    204 non-null    object\n",
      " 8   amount     204 non-null    object\n",
      " 9   currency   204 non-null    object\n",
      "dtypes: int64(3), object(7)\n",
      "memory usage: 17.5+ KB\n"
     ]
    }
   ],
   "source": [
    "df_house = df_ready[df_ready['item_name'].astype(str).str.contains('حویلی')]\n",
    "df_house.info()"
   ]
  },
  {
   "cell_type": "code",
   "execution_count": 30,
   "id": "22978735",
   "metadata": {},
   "outputs": [
    {
     "name": "stdout",
     "output_type": "stream",
     "text": [
      "<class 'pandas.core.frame.DataFrame'>\n",
      "Int64Index: 37 entries, 7 to 808\n",
      "Data columns (total 10 columns):\n",
      " #   Column     Non-Null Count  Dtype \n",
      "---  ------     --------------  ----- \n",
      " 0   id         37 non-null     int64 \n",
      " 1   date       37 non-null     object\n",
      " 2   views      37 non-null     int64 \n",
      " 3   forwards   37 non-null     int64 \n",
      " 4   edit_date  33 non-null     object\n",
      " 5   item       37 non-null     object\n",
      " 6   item_name  37 non-null     object\n",
      " 7   address    36 non-null     object\n",
      " 8   amount     37 non-null     object\n",
      " 9   currency   37 non-null     object\n",
      "dtypes: int64(3), object(7)\n",
      "memory usage: 3.2+ KB\n"
     ]
    }
   ],
   "source": [
    "df_block = df_ready[df_ready['item_name'].astype(str).str.contains('بلاک')]\n",
    "df_block.info()"
   ]
  },
  {
   "cell_type": "code",
   "execution_count": 32,
   "id": "7d1f7740",
   "metadata": {},
   "outputs": [
    {
     "name": "stdout",
     "output_type": "stream",
     "text": [
      "<class 'pandas.core.frame.DataFrame'>\n",
      "Int64Index: 9 entries, 77 to 491\n",
      "Data columns (total 10 columns):\n",
      " #   Column     Non-Null Count  Dtype \n",
      "---  ------     --------------  ----- \n",
      " 0   id         9 non-null      int64 \n",
      " 1   date       9 non-null      object\n",
      " 2   views      9 non-null      int64 \n",
      " 3   forwards   9 non-null      int64 \n",
      " 4   edit_date  5 non-null      object\n",
      " 5   item       8 non-null      object\n",
      " 6   item_name  9 non-null      object\n",
      " 7   address    9 non-null      object\n",
      " 8   amount     9 non-null      object\n",
      " 9   currency   9 non-null      object\n",
      "dtypes: int64(3), object(7)\n",
      "memory usage: 792.0+ bytes\n"
     ]
    }
   ],
   "source": [
    "df_apartment = df_ready[df_ready['item_name'].astype(str).str.contains('پارتمان')]\n",
    "df_apartment.info()"
   ]
  },
  {
   "cell_type": "code",
   "execution_count": 39,
   "id": "bd3cbcda",
   "metadata": {},
   "outputs": [
    {
     "data": {
      "text/html": [
       "<div>\n",
       "<style scoped>\n",
       "    .dataframe tbody tr th:only-of-type {\n",
       "        vertical-align: middle;\n",
       "    }\n",
       "\n",
       "    .dataframe tbody tr th {\n",
       "        vertical-align: top;\n",
       "    }\n",
       "\n",
       "    .dataframe thead th {\n",
       "        text-align: right;\n",
       "    }\n",
       "</style>\n",
       "<table border=\"1\" class=\"dataframe\">\n",
       "  <thead>\n",
       "    <tr style=\"text-align: right;\">\n",
       "      <th></th>\n",
       "      <th>id</th>\n",
       "      <th>date</th>\n",
       "      <th>views</th>\n",
       "      <th>forwards</th>\n",
       "      <th>edit_date</th>\n",
       "      <th>item</th>\n",
       "      <th>item_name</th>\n",
       "      <th>address</th>\n",
       "      <th>amount</th>\n",
       "      <th>currency</th>\n",
       "    </tr>\n",
       "  </thead>\n",
       "  <tbody>\n",
       "    <tr>\n",
       "      <th>24</th>\n",
       "      <td>7529</td>\n",
       "      <td>2022-12-16</td>\n",
       "      <td>2351</td>\n",
       "      <td>0</td>\n",
       "      <td>2022-12-16</td>\n",
       "      <td>1-H70</td>\n",
       "      <td>حویلی</td>\n",
       "      <td>کابل: کارته نوع</td>\n",
       "      <td>77</td>\n",
       "      <td>HT</td>\n",
       "    </tr>\n",
       "    <tr>\n",
       "      <th>80</th>\n",
       "      <td>7182</td>\n",
       "      <td>2022-11-25</td>\n",
       "      <td>2533</td>\n",
       "      <td>0</td>\n",
       "      <td>2022-11-25</td>\n",
       "      <td>1-H63</td>\n",
       "      <td>حویلی</td>\n",
       "      <td>کابل: سری کوتل</td>\n",
       "      <td>14</td>\n",
       "      <td>HT</td>\n",
       "    </tr>\n",
       "    <tr>\n",
       "      <th>83</th>\n",
       "      <td>7161</td>\n",
       "      <td>2022-11-24</td>\n",
       "      <td>2447</td>\n",
       "      <td>1</td>\n",
       "      <td>2022-11-24</td>\n",
       "      <td>1-H62</td>\n",
       "      <td>حویلی</td>\n",
       "      <td>کابل: سری کوتل</td>\n",
       "      <td>13</td>\n",
       "      <td>HT</td>\n",
       "    </tr>\n",
       "    <tr>\n",
       "      <th>94</th>\n",
       "      <td>7095</td>\n",
       "      <td>2022-11-20</td>\n",
       "      <td>2334</td>\n",
       "      <td>0</td>\n",
       "      <td>2022-11-20</td>\n",
       "      <td>1-H60</td>\n",
       "      <td>حویلی</td>\n",
       "      <td>کابل: کلکان</td>\n",
       "      <td>8</td>\n",
       "      <td>HT</td>\n",
       "    </tr>\n",
       "    <tr>\n",
       "      <th>398</th>\n",
       "      <td>4942</td>\n",
       "      <td>2022-08-04</td>\n",
       "      <td>2027</td>\n",
       "      <td>0</td>\n",
       "      <td>2022-08-05</td>\n",
       "      <td>1-H37</td>\n",
       "      <td>حویلی</td>\n",
       "      <td>کابل: 3 راهی خواجه رواش</td>\n",
       "      <td>28</td>\n",
       "      <td>HT</td>\n",
       "    </tr>\n",
       "    <tr>\n",
       "      <th>401</th>\n",
       "      <td>4922</td>\n",
       "      <td>2022-08-04</td>\n",
       "      <td>2001</td>\n",
       "      <td>0</td>\n",
       "      <td>2022-08-04</td>\n",
       "      <td>1-HG5</td>\n",
       "      <td>حویلی</td>\n",
       "      <td>کابل: سرک عمومی دارلمان</td>\n",
       "      <td>13</td>\n",
       "      <td>HT</td>\n",
       "    </tr>\n",
       "    <tr>\n",
       "      <th>406</th>\n",
       "      <td>4898</td>\n",
       "      <td>2022-08-03</td>\n",
       "      <td>1866</td>\n",
       "      <td>1</td>\n",
       "      <td>2022-08-04</td>\n",
       "      <td>1-H36</td>\n",
       "      <td>حویلی</td>\n",
       "      <td>کابل: کوتل خیرخانه</td>\n",
       "      <td>18</td>\n",
       "      <td>HT</td>\n",
       "    </tr>\n",
       "    <tr>\n",
       "      <th>425</th>\n",
       "      <td>4797</td>\n",
       "      <td>2022-07-29</td>\n",
       "      <td>1771</td>\n",
       "      <td>0</td>\n",
       "      <td>2022-07-29</td>\n",
       "      <td>1-HG6</td>\n",
       "      <td>حویلی</td>\n",
       "      <td>کابل: کوته سنگی</td>\n",
       "      <td>42</td>\n",
       "      <td>HT</td>\n",
       "    </tr>\n",
       "    <tr>\n",
       "      <th>462</th>\n",
       "      <td>4523</td>\n",
       "      <td>2022-07-10</td>\n",
       "      <td>1817</td>\n",
       "      <td>0</td>\n",
       "      <td>2022-07-11</td>\n",
       "      <td>1-H31</td>\n",
       "      <td>حویلی</td>\n",
       "      <td>کابل: گذشته از پل کمپنی</td>\n",
       "      <td>14</td>\n",
       "      <td>HT</td>\n",
       "    </tr>\n",
       "    <tr>\n",
       "      <th>494</th>\n",
       "      <td>3747</td>\n",
       "      <td>2022-06-01</td>\n",
       "      <td>1427</td>\n",
       "      <td>0</td>\n",
       "      <td>NaN</td>\n",
       "      <td>0-H231</td>\n",
       "      <td>حویلی</td>\n",
       "      <td>مزار: پروژه همدرد</td>\n",
       "      <td>13</td>\n",
       "      <td>HT</td>\n",
       "    </tr>\n",
       "    <tr>\n",
       "      <th>495</th>\n",
       "      <td>3742</td>\n",
       "      <td>2022-06-01</td>\n",
       "      <td>1467</td>\n",
       "      <td>1</td>\n",
       "      <td>2022-06-01</td>\n",
       "      <td>1-H6</td>\n",
       "      <td>حویلی</td>\n",
       "      <td>کابل: کارته نو</td>\n",
       "      <td>15</td>\n",
       "      <td>HT</td>\n",
       "    </tr>\n",
       "    <tr>\n",
       "      <th>497</th>\n",
       "      <td>3738</td>\n",
       "      <td>2022-05-31</td>\n",
       "      <td>1458</td>\n",
       "      <td>1</td>\n",
       "      <td>NaN</td>\n",
       "      <td>1-H5</td>\n",
       "      <td>حویلی</td>\n",
       "      <td>کابل: قرغه</td>\n",
       "      <td>35</td>\n",
       "      <td>HT</td>\n",
       "    </tr>\n",
       "    <tr>\n",
       "      <th>498</th>\n",
       "      <td>3732</td>\n",
       "      <td>2022-05-31</td>\n",
       "      <td>1451</td>\n",
       "      <td>0</td>\n",
       "      <td>2022-05-31</td>\n",
       "      <td>0-H229</td>\n",
       "      <td>حویلی</td>\n",
       "      <td>مزار: کارته وحدت</td>\n",
       "      <td>10</td>\n",
       "      <td>HT</td>\n",
       "    </tr>\n",
       "    <tr>\n",
       "      <th>630</th>\n",
       "      <td>2848</td>\n",
       "      <td>2022-03-23</td>\n",
       "      <td>1635</td>\n",
       "      <td>1</td>\n",
       "      <td>2022-03-28</td>\n",
       "      <td>0-hg43</td>\n",
       "      <td>حویلی</td>\n",
       "      <td>مزارشریف: شهرک خالد</td>\n",
       "      <td>6</td>\n",
       "      <td>HT</td>\n",
       "    </tr>\n",
       "  </tbody>\n",
       "</table>\n",
       "</div>"
      ],
      "text/plain": [
       "       id        date  views  forwards   edit_date    item item_name  \\\n",
       "24   7529  2022-12-16   2351         0  2022-12-16   1-H70    حویلی    \n",
       "80   7182  2022-11-25   2533         0  2022-11-25   1-H63    حویلی    \n",
       "83   7161  2022-11-24   2447         1  2022-11-24   1-H62    حویلی    \n",
       "94   7095  2022-11-20   2334         0  2022-11-20   1-H60    حویلی    \n",
       "398  4942  2022-08-04   2027         0  2022-08-05   1-H37   حویلی     \n",
       "401  4922  2022-08-04   2001         0  2022-08-04   1-HG5   حویلی     \n",
       "406  4898  2022-08-03   1866         1  2022-08-04   1-H36   حویلی     \n",
       "425  4797  2022-07-29   1771         0  2022-07-29   1-HG6   حویلی     \n",
       "462  4523  2022-07-10   1817         0  2022-07-11   1-H31   حویلی     \n",
       "494  3747  2022-06-01   1427         0         NaN  0-H231    حویلی    \n",
       "495  3742  2022-06-01   1467         1  2022-06-01    1-H6     حویلی   \n",
       "497  3738  2022-05-31   1458         1         NaN    1-H5     حویلی   \n",
       "498  3732  2022-05-31   1451         0  2022-05-31  0-H229    حویلی    \n",
       "630  2848  2022-03-23   1635         1  2022-03-28  0-hg43    حویلی    \n",
       "\n",
       "                      address amount currency  \n",
       "24           کابل: کارته نوع      77       HT  \n",
       "80             کابل: سری کوتل     14       HT  \n",
       "83             کابل: سری کوتل     13       HT  \n",
       "94                کابل: کلکان      8       HT  \n",
       "398   کابل: 3 راهی خواجه رواش     28       HT  \n",
       "401   کابل: سرک عمومی دارلمان     13       HT  \n",
       "406        کابل: کوتل خیرخانه     18       HT  \n",
       "425           کابل: کوته سنگی     42       HT  \n",
       "462   کابل: گذشته از پل کمپنی     14       HT  \n",
       "494         مزار: پروژه همدرد     13       HT  \n",
       "495            کابل: کارته نو     15       HT  \n",
       "497                کابل: قرغه     35       HT  \n",
       "498          مزار: کارته وحدت     10       HT  \n",
       "630     مزارشریف: شهرک خالد        6       HT  "
      ]
     },
     "execution_count": 39,
     "metadata": {},
     "output_type": "execute_result"
    }
   ],
   "source": [
    "df_house[df_house['currency']=='HT']"
   ]
  },
  {
   "cell_type": "code",
   "execution_count": 40,
   "id": "e0488a27",
   "metadata": {},
   "outputs": [
    {
     "name": "stderr",
     "output_type": "stream",
     "text": [
      "/var/folders/1t/4z7v2tfd7gj2lkck1drksp800000gp/T/ipykernel_75614/3336241431.py:1: SettingWithCopyWarning: \n",
      "A value is trying to be set on a copy of a slice from a DataFrame.\n",
      "Try using .loc[row_indexer,col_indexer] = value instead\n",
      "\n",
      "See the caveats in the documentation: https://pandas.pydata.org/pandas-docs/stable/user_guide/indexing.html#returning-a-view-versus-a-copy\n",
      "  df_house['amount'] = df_house['amount'].astype(float)\n"
     ]
    },
    {
     "data": {
      "text/html": [
       "<div>\n",
       "<style scoped>\n",
       "    .dataframe tbody tr th:only-of-type {\n",
       "        vertical-align: middle;\n",
       "    }\n",
       "\n",
       "    .dataframe tbody tr th {\n",
       "        vertical-align: top;\n",
       "    }\n",
       "\n",
       "    .dataframe thead th {\n",
       "        text-align: right;\n",
       "    }\n",
       "</style>\n",
       "<table border=\"1\" class=\"dataframe\">\n",
       "  <thead>\n",
       "    <tr style=\"text-align: right;\">\n",
       "      <th></th>\n",
       "      <th>id</th>\n",
       "      <th>date</th>\n",
       "      <th>views</th>\n",
       "      <th>forwards</th>\n",
       "      <th>edit_date</th>\n",
       "      <th>item</th>\n",
       "      <th>item_name</th>\n",
       "      <th>address</th>\n",
       "      <th>amount</th>\n",
       "      <th>currency</th>\n",
       "    </tr>\n",
       "  </thead>\n",
       "  <tbody>\n",
       "    <tr>\n",
       "      <th>24</th>\n",
       "      <td>7529</td>\n",
       "      <td>2022-12-16</td>\n",
       "      <td>2351</td>\n",
       "      <td>0</td>\n",
       "      <td>2022-12-16</td>\n",
       "      <td>1-H70</td>\n",
       "      <td>حویلی</td>\n",
       "      <td>کابل: کارته نوع</td>\n",
       "      <td>84700.0</td>\n",
       "      <td>HT</td>\n",
       "    </tr>\n",
       "    <tr>\n",
       "      <th>80</th>\n",
       "      <td>7182</td>\n",
       "      <td>2022-11-25</td>\n",
       "      <td>2533</td>\n",
       "      <td>0</td>\n",
       "      <td>2022-11-25</td>\n",
       "      <td>1-H63</td>\n",
       "      <td>حویلی</td>\n",
       "      <td>کابل: سری کوتل</td>\n",
       "      <td>15400.0</td>\n",
       "      <td>HT</td>\n",
       "    </tr>\n",
       "    <tr>\n",
       "      <th>83</th>\n",
       "      <td>7161</td>\n",
       "      <td>2022-11-24</td>\n",
       "      <td>2447</td>\n",
       "      <td>1</td>\n",
       "      <td>2022-11-24</td>\n",
       "      <td>1-H62</td>\n",
       "      <td>حویلی</td>\n",
       "      <td>کابل: سری کوتل</td>\n",
       "      <td>14300.0</td>\n",
       "      <td>HT</td>\n",
       "    </tr>\n",
       "    <tr>\n",
       "      <th>94</th>\n",
       "      <td>7095</td>\n",
       "      <td>2022-11-20</td>\n",
       "      <td>2334</td>\n",
       "      <td>0</td>\n",
       "      <td>2022-11-20</td>\n",
       "      <td>1-H60</td>\n",
       "      <td>حویلی</td>\n",
       "      <td>کابل: کلکان</td>\n",
       "      <td>8800.0</td>\n",
       "      <td>HT</td>\n",
       "    </tr>\n",
       "    <tr>\n",
       "      <th>398</th>\n",
       "      <td>4942</td>\n",
       "      <td>2022-08-04</td>\n",
       "      <td>2027</td>\n",
       "      <td>0</td>\n",
       "      <td>2022-08-05</td>\n",
       "      <td>1-H37</td>\n",
       "      <td>حویلی</td>\n",
       "      <td>کابل: 3 راهی خواجه رواش</td>\n",
       "      <td>30800.0</td>\n",
       "      <td>HT</td>\n",
       "    </tr>\n",
       "    <tr>\n",
       "      <th>401</th>\n",
       "      <td>4922</td>\n",
       "      <td>2022-08-04</td>\n",
       "      <td>2001</td>\n",
       "      <td>0</td>\n",
       "      <td>2022-08-04</td>\n",
       "      <td>1-HG5</td>\n",
       "      <td>حویلی</td>\n",
       "      <td>کابل: سرک عمومی دارلمان</td>\n",
       "      <td>14300.0</td>\n",
       "      <td>HT</td>\n",
       "    </tr>\n",
       "    <tr>\n",
       "      <th>406</th>\n",
       "      <td>4898</td>\n",
       "      <td>2022-08-03</td>\n",
       "      <td>1866</td>\n",
       "      <td>1</td>\n",
       "      <td>2022-08-04</td>\n",
       "      <td>1-H36</td>\n",
       "      <td>حویلی</td>\n",
       "      <td>کابل: کوتل خیرخانه</td>\n",
       "      <td>19800.0</td>\n",
       "      <td>HT</td>\n",
       "    </tr>\n",
       "    <tr>\n",
       "      <th>425</th>\n",
       "      <td>4797</td>\n",
       "      <td>2022-07-29</td>\n",
       "      <td>1771</td>\n",
       "      <td>0</td>\n",
       "      <td>2022-07-29</td>\n",
       "      <td>1-HG6</td>\n",
       "      <td>حویلی</td>\n",
       "      <td>کابل: کوته سنگی</td>\n",
       "      <td>46200.0</td>\n",
       "      <td>HT</td>\n",
       "    </tr>\n",
       "    <tr>\n",
       "      <th>462</th>\n",
       "      <td>4523</td>\n",
       "      <td>2022-07-10</td>\n",
       "      <td>1817</td>\n",
       "      <td>0</td>\n",
       "      <td>2022-07-11</td>\n",
       "      <td>1-H31</td>\n",
       "      <td>حویلی</td>\n",
       "      <td>کابل: گذشته از پل کمپنی</td>\n",
       "      <td>15400.0</td>\n",
       "      <td>HT</td>\n",
       "    </tr>\n",
       "    <tr>\n",
       "      <th>494</th>\n",
       "      <td>3747</td>\n",
       "      <td>2022-06-01</td>\n",
       "      <td>1427</td>\n",
       "      <td>0</td>\n",
       "      <td>NaN</td>\n",
       "      <td>0-H231</td>\n",
       "      <td>حویلی</td>\n",
       "      <td>مزار: پروژه همدرد</td>\n",
       "      <td>14300.0</td>\n",
       "      <td>HT</td>\n",
       "    </tr>\n",
       "    <tr>\n",
       "      <th>495</th>\n",
       "      <td>3742</td>\n",
       "      <td>2022-06-01</td>\n",
       "      <td>1467</td>\n",
       "      <td>1</td>\n",
       "      <td>2022-06-01</td>\n",
       "      <td>1-H6</td>\n",
       "      <td>حویلی</td>\n",
       "      <td>کابل: کارته نو</td>\n",
       "      <td>16500.0</td>\n",
       "      <td>HT</td>\n",
       "    </tr>\n",
       "    <tr>\n",
       "      <th>497</th>\n",
       "      <td>3738</td>\n",
       "      <td>2022-05-31</td>\n",
       "      <td>1458</td>\n",
       "      <td>1</td>\n",
       "      <td>NaN</td>\n",
       "      <td>1-H5</td>\n",
       "      <td>حویلی</td>\n",
       "      <td>کابل: قرغه</td>\n",
       "      <td>38500.0</td>\n",
       "      <td>HT</td>\n",
       "    </tr>\n",
       "    <tr>\n",
       "      <th>498</th>\n",
       "      <td>3732</td>\n",
       "      <td>2022-05-31</td>\n",
       "      <td>1451</td>\n",
       "      <td>0</td>\n",
       "      <td>2022-05-31</td>\n",
       "      <td>0-H229</td>\n",
       "      <td>حویلی</td>\n",
       "      <td>مزار: کارته وحدت</td>\n",
       "      <td>11000.0</td>\n",
       "      <td>HT</td>\n",
       "    </tr>\n",
       "    <tr>\n",
       "      <th>630</th>\n",
       "      <td>2848</td>\n",
       "      <td>2022-03-23</td>\n",
       "      <td>1635</td>\n",
       "      <td>1</td>\n",
       "      <td>2022-03-28</td>\n",
       "      <td>0-hg43</td>\n",
       "      <td>حویلی</td>\n",
       "      <td>مزارشریف: شهرک خالد</td>\n",
       "      <td>6600.0</td>\n",
       "      <td>HT</td>\n",
       "    </tr>\n",
       "  </tbody>\n",
       "</table>\n",
       "</div>"
      ],
      "text/plain": [
       "       id        date  views  forwards   edit_date    item item_name  \\\n",
       "24   7529  2022-12-16   2351         0  2022-12-16   1-H70    حویلی    \n",
       "80   7182  2022-11-25   2533         0  2022-11-25   1-H63    حویلی    \n",
       "83   7161  2022-11-24   2447         1  2022-11-24   1-H62    حویلی    \n",
       "94   7095  2022-11-20   2334         0  2022-11-20   1-H60    حویلی    \n",
       "398  4942  2022-08-04   2027         0  2022-08-05   1-H37   حویلی     \n",
       "401  4922  2022-08-04   2001         0  2022-08-04   1-HG5   حویلی     \n",
       "406  4898  2022-08-03   1866         1  2022-08-04   1-H36   حویلی     \n",
       "425  4797  2022-07-29   1771         0  2022-07-29   1-HG6   حویلی     \n",
       "462  4523  2022-07-10   1817         0  2022-07-11   1-H31   حویلی     \n",
       "494  3747  2022-06-01   1427         0         NaN  0-H231    حویلی    \n",
       "495  3742  2022-06-01   1467         1  2022-06-01    1-H6     حویلی   \n",
       "497  3738  2022-05-31   1458         1         NaN    1-H5     حویلی   \n",
       "498  3732  2022-05-31   1451         0  2022-05-31  0-H229    حویلی    \n",
       "630  2848  2022-03-23   1635         1  2022-03-28  0-hg43    حویلی    \n",
       "\n",
       "                      address   amount currency  \n",
       "24           کابل: کارته نوع   84700.0       HT  \n",
       "80             کابل: سری کوتل  15400.0       HT  \n",
       "83             کابل: سری کوتل  14300.0       HT  \n",
       "94                کابل: کلکان   8800.0       HT  \n",
       "398   کابل: 3 راهی خواجه رواش  30800.0       HT  \n",
       "401   کابل: سرک عمومی دارلمان  14300.0       HT  \n",
       "406        کابل: کوتل خیرخانه  19800.0       HT  \n",
       "425           کابل: کوته سنگی  46200.0       HT  \n",
       "462   کابل: گذشته از پل کمپنی  15400.0       HT  \n",
       "494         مزار: پروژه همدرد  14300.0       HT  \n",
       "495            کابل: کارته نو  16500.0       HT  \n",
       "497                کابل: قرغه  38500.0       HT  \n",
       "498          مزار: کارته وحدت  11000.0       HT  \n",
       "630     مزارشریف: شهرک خالد     6600.0       HT  "
      ]
     },
     "execution_count": 40,
     "metadata": {},
     "output_type": "execute_result"
    }
   ],
   "source": [
    "#run this command only onetime.\n",
    "#exchange if the currency is in range of handred tousend of Afghani(HT) to the corresponded Dollar\n",
    "df_house['amount'] = df_house['amount'].astype(float)\n",
    "df_house.loc[df_house['currency'] == 'HT', 'amount'] = df_house['amount']*1100\n",
    "df_house[df_house['currency']=='HT']\n",
    "#df_house.info()"
   ]
  },
  {
   "cell_type": "code",
   "execution_count": 44,
   "id": "7b4d15d1",
   "metadata": {},
   "outputs": [
    {
     "name": "stderr",
     "output_type": "stream",
     "text": [
      "/var/folders/1t/4z7v2tfd7gj2lkck1drksp800000gp/T/ipykernel_75614/388899046.py:2: SettingWithCopyWarning:\n",
      "\n",
      "\n",
      "A value is trying to be set on a copy of a slice from a DataFrame\n",
      "\n",
      "See the caveats in the documentation: https://pandas.pydata.org/pandas-docs/stable/user_guide/indexing.html#returning-a-view-versus-a-copy\n",
      "\n"
     ]
    },
    {
     "data": {
      "text/plain": [
       "array(['کابل', 'مزار', ''], dtype=object)"
      ]
     },
     "execution_count": 44,
     "metadata": {},
     "output_type": "execute_result"
    }
   ],
   "source": [
    "#trim all dataframe data\n",
    "df_house.replace('(^\\s+|\\s+$)', '', regex=True, inplace=True)\n",
    "pd.unique(df_house[['province']].values.ravel())"
   ]
  },
  {
   "cell_type": "code",
   "execution_count": 45,
   "id": "3700375a",
   "metadata": {},
   "outputs": [
    {
     "name": "stderr",
     "output_type": "stream",
     "text": [
      "/var/folders/1t/4z7v2tfd7gj2lkck1drksp800000gp/T/ipykernel_75614/1845820374.py:2: SettingWithCopyWarning:\n",
      "\n",
      "\n",
      "A value is trying to be set on a copy of a slice from a DataFrame.\n",
      "Try using .loc[row_indexer,col_indexer] = value instead\n",
      "\n",
      "See the caveats in the documentation: https://pandas.pydata.org/pandas-docs/stable/user_guide/indexing.html#returning-a-view-versus-a-copy\n",
      "\n"
     ]
    },
    {
     "data": {
      "text/html": [
       "<div>\n",
       "<style scoped>\n",
       "    .dataframe tbody tr th:only-of-type {\n",
       "        vertical-align: middle;\n",
       "    }\n",
       "\n",
       "    .dataframe tbody tr th {\n",
       "        vertical-align: top;\n",
       "    }\n",
       "\n",
       "    .dataframe thead th {\n",
       "        text-align: right;\n",
       "    }\n",
       "</style>\n",
       "<table border=\"1\" class=\"dataframe\">\n",
       "  <thead>\n",
       "    <tr style=\"text-align: right;\">\n",
       "      <th></th>\n",
       "      <th>id</th>\n",
       "      <th>date</th>\n",
       "      <th>views</th>\n",
       "      <th>forwards</th>\n",
       "      <th>edit_date</th>\n",
       "      <th>item</th>\n",
       "      <th>item_name</th>\n",
       "      <th>address</th>\n",
       "      <th>amount</th>\n",
       "      <th>currency</th>\n",
       "      <th>province</th>\n",
       "    </tr>\n",
       "  </thead>\n",
       "  <tbody>\n",
       "    <tr>\n",
       "      <th>1</th>\n",
       "      <td>7653</td>\n",
       "      <td>2022-12-26</td>\n",
       "      <td>567</td>\n",
       "      <td>0</td>\n",
       "      <td>2022-12-26</td>\n",
       "      <td>1-H11</td>\n",
       "      <td>حویلی</td>\n",
       "      <td>کابل: چهلستون</td>\n",
       "      <td>90000.0</td>\n",
       "      <td>Dollar</td>\n",
       "      <td>کابل</td>\n",
       "    </tr>\n",
       "    <tr>\n",
       "      <th>3</th>\n",
       "      <td>7639</td>\n",
       "      <td>2022-12-25</td>\n",
       "      <td>1266</td>\n",
       "      <td>0</td>\n",
       "      <td>2022-12-25</td>\n",
       "      <td>1-B27</td>\n",
       "      <td>حویلی</td>\n",
       "      <td>کابل: سرکوتل</td>\n",
       "      <td>10000.0</td>\n",
       "      <td>Dollar</td>\n",
       "      <td>کابل</td>\n",
       "    </tr>\n",
       "    <tr>\n",
       "      <th>10</th>\n",
       "      <td>7603</td>\n",
       "      <td>2022-12-22</td>\n",
       "      <td>1790</td>\n",
       "      <td>0</td>\n",
       "      <td>2022-12-22</td>\n",
       "      <td>1-H65</td>\n",
       "      <td>حویلی</td>\n",
       "      <td>کابل: سلیم کاروان</td>\n",
       "      <td>38000.0</td>\n",
       "      <td>Dollar</td>\n",
       "      <td>کابل</td>\n",
       "    </tr>\n",
       "    <tr>\n",
       "      <th>12</th>\n",
       "      <td>7588</td>\n",
       "      <td>2022-12-21</td>\n",
       "      <td>1898</td>\n",
       "      <td>0</td>\n",
       "      <td>2022-12-21</td>\n",
       "      <td>1-H74</td>\n",
       "      <td>حویلی</td>\n",
       "      <td>کابل: دارلامان</td>\n",
       "      <td>37000.0</td>\n",
       "      <td>Dollar</td>\n",
       "      <td>کابل</td>\n",
       "    </tr>\n",
       "    <tr>\n",
       "      <th>17</th>\n",
       "      <td>7554</td>\n",
       "      <td>2022-12-19</td>\n",
       "      <td>2052</td>\n",
       "      <td>0</td>\n",
       "      <td>2022-12-19</td>\n",
       "      <td>1-H173</td>\n",
       "      <td>حویلی</td>\n",
       "      <td>کابل: چهاراهی شهید</td>\n",
       "      <td>55000.0</td>\n",
       "      <td>Dollar</td>\n",
       "      <td>کابل</td>\n",
       "    </tr>\n",
       "  </tbody>\n",
       "</table>\n",
       "</div>"
      ],
      "text/plain": [
       "      id        date  views  forwards   edit_date    item item_name  \\\n",
       "1   7653  2022-12-26    567         0  2022-12-26   1-H11     حویلی   \n",
       "3   7639  2022-12-25   1266         0  2022-12-25   1-B27     حویلی   \n",
       "10  7603  2022-12-22   1790         0  2022-12-22   1-H65     حویلی   \n",
       "12  7588  2022-12-21   1898         0  2022-12-21   1-H74     حویلی   \n",
       "17  7554  2022-12-19   2052         0  2022-12-19  1-H173     حویلی   \n",
       "\n",
       "               address   amount currency province  \n",
       "1        کابل: چهلستون  90000.0   Dollar     کابل  \n",
       "3         کابل: سرکوتل  10000.0   Dollar     کابل  \n",
       "10   کابل: سلیم کاروان  38000.0   Dollar     کابل  \n",
       "12      کابل: دارلامان  37000.0   Dollar     کابل  \n",
       "17  کابل: چهاراهی شهید  55000.0   Dollar     کابل  "
      ]
     },
     "execution_count": 45,
     "metadata": {},
     "output_type": "execute_result"
    }
   ],
   "source": [
    "#extracts all these words from the address field of the DF and saves into province generated field.\n",
    "df_house['province'] = df_house['address'].str.findall(r'^\\s*(?:کابل|مزار|خالد|تفاوصات|کارته آریانا)').str.join(\", \")\n",
    "df_house.head()"
   ]
  },
  {
   "cell_type": "code",
   "execution_count": 46,
   "id": "a12de3ed",
   "metadata": {},
   "outputs": [
    {
     "data": {
      "application/vnd.plotly.v1+json": {
       "config": {
        "plotlyServerURL": "https://plot.ly"
       },
       "data": [
        {
         "hovertemplate": "province=%{text}<br>date=%{x}<br>y=%{y}<extra></extra>",
         "legendgroup": "کابل",
         "marker": {
          "color": "#636efa",
          "symbol": "circle"
         },
         "mode": "markers+text",
         "name": "کابل",
         "orientation": "v",
         "showlegend": true,
         "text": [
          "کابل",
          "کابل",
          "کابل",
          "کابل",
          "کابل",
          "کابل",
          "کابل",
          "کابل",
          "کابل",
          "کابل",
          "کابل",
          "کابل",
          "کابل",
          "کابل",
          "کابل",
          "کابل",
          "کابل",
          "کابل",
          "کابل",
          "کابل",
          "کابل",
          "کابل",
          "کابل",
          "کابل",
          "کابل",
          "کابل",
          "کابل",
          "کابل",
          "کابل",
          "کابل",
          "کابل",
          "کابل",
          "کابل",
          "کابل",
          "کابل",
          "کابل",
          "کابل",
          "کابل",
          "کابل",
          "کابل",
          "کابل",
          "کابل",
          "کابل",
          "کابل",
          "کابل",
          "کابل",
          "کابل",
          "کابل",
          "کابل",
          "کابل",
          "کابل",
          "کابل",
          "کابل",
          "کابل",
          "کابل",
          "کابل",
          "کابل",
          "کابل",
          "کابل",
          "کابل",
          "کابل",
          "کابل",
          "کابل",
          "کابل",
          "کابل",
          "کابل",
          "کابل",
          "کابل",
          "کابل",
          "کابل",
          "کابل"
         ],
         "textposition": "bottom right",
         "type": "scatter",
         "x": [
          "2022-12-26",
          "2022-12-25",
          "2022-12-22",
          "2022-12-21",
          "2022-12-19",
          "2022-12-18",
          "2022-12-17",
          "2022-12-16",
          "2022-12-14",
          "2022-12-14",
          "2022-12-13",
          "2022-12-11",
          "2022-12-11",
          "2022-12-06",
          "2022-12-05",
          "2022-12-04",
          "2022-12-03",
          "2022-11-30",
          "2022-11-30",
          "2022-11-29",
          "2022-11-27",
          "2022-11-26",
          "2022-11-25",
          "2022-11-24",
          "2022-11-23",
          "2022-11-21",
          "2022-11-20",
          "2022-11-20",
          "2022-11-19",
          "2022-11-16",
          "2022-11-14",
          "2022-11-13",
          "2022-11-12",
          "2022-11-07",
          "2022-11-07",
          "2022-11-05",
          "2022-11-02",
          "2022-11-02",
          "2022-08-13",
          "2022-08-08",
          "2022-08-06",
          "2022-08-05",
          "2022-08-04",
          "2022-08-04",
          "2022-08-03",
          "2022-08-03",
          "2022-08-02",
          "2022-08-01",
          "2022-08-01",
          "2022-07-29",
          "2022-07-27",
          "2022-07-24",
          "2022-07-10",
          "2022-07-04",
          "2022-07-04",
          "2022-07-02",
          "2022-06-27",
          "2022-06-10",
          "2022-06-03",
          "2022-06-02",
          "2022-06-02",
          "2022-06-01",
          "2022-05-31",
          "2022-05-30",
          "2022-05-30",
          "2022-05-29",
          "2022-05-28",
          "2022-05-26",
          "2022-05-24",
          "2022-05-16",
          "2022-05-14"
         ],
         "xaxis": "x",
         "y": [
          50,
          150,
          170,
          230,
          350,
          650,
          6600,
          8000,
          8000,
          8800,
          10000,
          10000,
          10000,
          11000,
          11000,
          12000,
          12000,
          13000,
          14000,
          14300,
          14300,
          14300,
          15000,
          15000,
          15400,
          15400,
          16000,
          16000,
          16500,
          19800,
          20000,
          20000,
          20000,
          23000,
          23000,
          23000,
          25000,
          25000,
          25000,
          25000,
          25000,
          25000,
          25000,
          25000,
          26000,
          26000,
          28000,
          30000,
          30000,
          30000,
          30000,
          30000,
          30000,
          30800,
          32000,
          32000,
          32500,
          33000,
          34000,
          35000,
          35000,
          35000,
          35000,
          36000,
          36000,
          37000,
          37000,
          38000,
          38000,
          38500,
          40000
         ],
         "yaxis": "y"
        },
        {
         "hovertemplate": "province=%{text}<br>date=%{x}<br>y=%{y}<extra></extra>",
         "legendgroup": "مزار",
         "marker": {
          "color": "#EF553B",
          "symbol": "circle"
         },
         "mode": "markers+text",
         "name": "مزار",
         "orientation": "v",
         "showlegend": true,
         "text": [
          "مزار",
          "مزار",
          "مزار",
          "مزار",
          "مزار",
          "مزار",
          "مزار",
          "مزار",
          "مزار",
          "مزار",
          "مزار",
          "مزار",
          "مزار",
          "مزار",
          "مزار",
          "مزار",
          "مزار",
          "مزار",
          "مزار",
          "مزار",
          "مزار",
          "مزار",
          "مزار",
          "مزار",
          "مزار",
          "مزار",
          "مزار",
          "مزار",
          "مزار",
          "مزار",
          "مزار",
          "مزار",
          "مزار",
          "مزار",
          "مزار",
          "مزار",
          "مزار",
          "مزار",
          "مزار",
          "مزار",
          "مزار",
          "مزار",
          "مزار",
          "مزار",
          "مزار",
          "مزار",
          "مزار",
          "مزار",
          "مزار",
          "مزار",
          "مزار",
          "مزار",
          "مزار",
          "مزار",
          "مزار",
          "مزار",
          "مزار",
          "مزار",
          "مزار",
          "مزار",
          "مزار",
          "مزار",
          "مزار",
          "مزار",
          "مزار",
          "مزار",
          "مزار",
          "مزار",
          "مزار",
          "مزار",
          "مزار",
          "مزار",
          "مزار",
          "مزار",
          "مزار",
          "مزار",
          "مزار",
          "مزار",
          "مزار",
          "مزار",
          "مزار",
          "مزار",
          "مزار",
          "مزار",
          "مزار",
          "مزار",
          "مزار",
          "مزار",
          "مزار",
          "مزار",
          "مزار",
          "مزار",
          "مزار",
          "مزار",
          "مزار",
          "مزار",
          "مزار",
          "مزار",
          "مزار",
          "مزار",
          "مزار",
          "مزار"
         ],
         "textposition": "bottom right",
         "type": "scatter",
         "x": [
          "2022-06-06",
          "2022-06-01",
          "2022-05-31",
          "2022-05-31",
          "2022-05-30",
          "2022-05-22",
          "2022-05-07",
          "2022-05-06",
          "2022-05-05",
          "2022-05-04",
          "2022-04-29",
          "2022-04-29",
          "2022-04-25",
          "2022-04-25",
          "2022-04-24",
          "2022-04-23",
          "2022-04-21",
          "2022-04-21",
          "2022-04-20",
          "2022-04-20",
          "2022-04-19",
          "2022-04-19",
          "2022-04-19",
          "2022-04-18",
          "2022-04-18",
          "2022-04-17",
          "2022-04-16",
          "2022-04-16",
          "2022-04-15",
          "2022-04-15",
          "2022-04-13",
          "2022-04-12",
          "2022-04-12",
          "2022-04-12",
          "2022-04-11",
          "2022-04-10",
          "2022-04-09",
          "2022-04-06",
          "2022-04-06",
          "2022-04-05",
          "2022-04-04",
          "2022-04-03",
          "2022-04-02",
          "2022-03-31",
          "2022-03-30",
          "2022-03-29",
          "2022-03-28",
          "2022-03-27",
          "2022-03-27",
          "2022-03-26",
          "2022-03-24",
          "2022-03-23",
          "2022-03-23",
          "2022-03-21",
          "2022-03-21",
          "2022-03-18",
          "2022-03-17",
          "2022-03-17",
          "2022-03-16",
          "2022-03-15",
          "2022-03-14",
          "2022-03-13",
          "2022-03-12",
          "2022-03-09",
          "2022-03-07",
          "2022-03-06",
          "2022-03-04",
          "2022-03-03",
          "2022-03-03",
          "2022-03-02",
          "2022-03-02",
          "2022-02-28",
          "2022-02-28",
          "2022-02-27",
          "2022-02-26",
          "2022-02-25",
          "2022-02-23",
          "2022-02-21",
          "2022-02-21",
          "2022-02-20",
          "2022-02-19",
          "2022-02-17",
          "2022-02-16",
          "2022-02-14",
          "2022-02-11",
          "2022-02-10",
          "2022-02-09",
          "2022-02-09",
          "2022-02-08",
          "2022-02-08",
          "2022-02-07",
          "2022-02-07",
          "2022-02-06",
          "2022-02-05",
          "2022-02-05",
          "2022-02-04",
          "2022-02-04",
          "2022-02-03",
          "2022-02-03",
          "2022-02-02",
          "2022-02-02",
          "2022-02-01"
         ],
         "xaxis": "x",
         "y": [
          34000,
          35000,
          35000,
          35000,
          36000,
          38000,
          48000,
          48000,
          50000,
          50000,
          50000,
          50000,
          50000,
          50000,
          50000,
          50000,
          50000,
          55000,
          55000,
          55000,
          55000,
          55000,
          55000,
          55000,
          55000,
          60000,
          60000,
          60000,
          65000,
          65000,
          65000,
          65000,
          65000,
          65000,
          65000,
          65000,
          70000,
          70000,
          70000,
          70000,
          70000,
          70000,
          72000,
          75000,
          75000,
          75000,
          75000,
          75000,
          75000,
          75000,
          80000,
          80000,
          80000,
          80000,
          80000,
          80000,
          80000,
          84000,
          84700,
          85000,
          85000,
          85000,
          85000,
          90000,
          90000,
          90000,
          90000,
          90000,
          90000,
          90000,
          90000,
          95000,
          95000,
          95000,
          98000,
          99000,
          100000,
          100000,
          110000,
          110000,
          125000,
          130000,
          135000,
          135000,
          149500,
          150000,
          150000,
          150000,
          155000,
          158000,
          160000,
          165000,
          165000,
          180000,
          190000,
          220000,
          250000,
          250000,
          315000,
          315000,
          370000,
          370000
         ],
         "yaxis": "y"
        },
        {
         "hovertemplate": "province=%{text}<br>date=%{x}<br>y=%{y}<extra></extra>",
         "legendgroup": "",
         "marker": {
          "color": "#00cc96",
          "symbol": "circle"
         },
         "mode": "markers+text",
         "name": "",
         "orientation": "v",
         "showlegend": false,
         "text": [
          "",
          "",
          "",
          "",
          "",
          "",
          "",
          "",
          "",
          "",
          "",
          "",
          "",
          "",
          "",
          "",
          "",
          "",
          "",
          "",
          "",
          "",
          "",
          "",
          "",
          "",
          "",
          "",
          "",
          "",
          ""
         ],
         "textposition": "bottom right",
         "type": "scatter",
         "x": [
          "2022-05-28",
          "2022-05-27",
          "2022-05-26",
          "2022-05-23",
          "2022-05-22",
          "2022-05-12",
          "2022-05-12",
          "2022-05-11",
          "2022-05-11",
          "2022-05-10",
          "2022-05-10",
          "2022-05-09",
          "2022-05-09",
          "2022-05-08",
          "2022-05-08",
          "2022-03-26",
          "2022-03-15",
          "2022-03-10",
          "2022-03-08",
          "2022-03-07",
          "2022-03-05",
          "2022-03-05",
          "2022-02-18",
          "2022-02-16",
          "2022-02-15",
          "2022-02-14",
          "2022-02-13",
          "2022-02-12",
          "2022-02-11",
          "2022-01-06",
          "2021-12-20"
         ],
         "xaxis": "x",
         "y": [
          37000,
          37000,
          38000,
          38000,
          38000,
          40000,
          40000,
          40000,
          40000,
          40000,
          40000,
          42000,
          45000,
          45000,
          46200,
          78000,
          85000,
          85000,
          90000,
          90000,
          90000,
          90000,
          130000,
          135000,
          135000,
          145000,
          145000,
          149500,
          150000,
          370000,
          380000
         ],
         "yaxis": "y"
        }
       ],
       "layout": {
        "legend": {
         "title": {
          "text": "province"
         },
         "tracegroupgap": 0
        },
        "margin": {
         "t": 60
        },
        "template": {
         "data": {
          "bar": [
           {
            "error_x": {
             "color": "#2a3f5f"
            },
            "error_y": {
             "color": "#2a3f5f"
            },
            "marker": {
             "line": {
              "color": "#E5ECF6",
              "width": 0.5
             },
             "pattern": {
              "fillmode": "overlay",
              "size": 10,
              "solidity": 0.2
             }
            },
            "type": "bar"
           }
          ],
          "barpolar": [
           {
            "marker": {
             "line": {
              "color": "#E5ECF6",
              "width": 0.5
             },
             "pattern": {
              "fillmode": "overlay",
              "size": 10,
              "solidity": 0.2
             }
            },
            "type": "barpolar"
           }
          ],
          "carpet": [
           {
            "aaxis": {
             "endlinecolor": "#2a3f5f",
             "gridcolor": "white",
             "linecolor": "white",
             "minorgridcolor": "white",
             "startlinecolor": "#2a3f5f"
            },
            "baxis": {
             "endlinecolor": "#2a3f5f",
             "gridcolor": "white",
             "linecolor": "white",
             "minorgridcolor": "white",
             "startlinecolor": "#2a3f5f"
            },
            "type": "carpet"
           }
          ],
          "choropleth": [
           {
            "colorbar": {
             "outlinewidth": 0,
             "ticks": ""
            },
            "type": "choropleth"
           }
          ],
          "contour": [
           {
            "colorbar": {
             "outlinewidth": 0,
             "ticks": ""
            },
            "colorscale": [
             [
              0,
              "#0d0887"
             ],
             [
              0.1111111111111111,
              "#46039f"
             ],
             [
              0.2222222222222222,
              "#7201a8"
             ],
             [
              0.3333333333333333,
              "#9c179e"
             ],
             [
              0.4444444444444444,
              "#bd3786"
             ],
             [
              0.5555555555555556,
              "#d8576b"
             ],
             [
              0.6666666666666666,
              "#ed7953"
             ],
             [
              0.7777777777777778,
              "#fb9f3a"
             ],
             [
              0.8888888888888888,
              "#fdca26"
             ],
             [
              1,
              "#f0f921"
             ]
            ],
            "type": "contour"
           }
          ],
          "contourcarpet": [
           {
            "colorbar": {
             "outlinewidth": 0,
             "ticks": ""
            },
            "type": "contourcarpet"
           }
          ],
          "heatmap": [
           {
            "colorbar": {
             "outlinewidth": 0,
             "ticks": ""
            },
            "colorscale": [
             [
              0,
              "#0d0887"
             ],
             [
              0.1111111111111111,
              "#46039f"
             ],
             [
              0.2222222222222222,
              "#7201a8"
             ],
             [
              0.3333333333333333,
              "#9c179e"
             ],
             [
              0.4444444444444444,
              "#bd3786"
             ],
             [
              0.5555555555555556,
              "#d8576b"
             ],
             [
              0.6666666666666666,
              "#ed7953"
             ],
             [
              0.7777777777777778,
              "#fb9f3a"
             ],
             [
              0.8888888888888888,
              "#fdca26"
             ],
             [
              1,
              "#f0f921"
             ]
            ],
            "type": "heatmap"
           }
          ],
          "heatmapgl": [
           {
            "colorbar": {
             "outlinewidth": 0,
             "ticks": ""
            },
            "colorscale": [
             [
              0,
              "#0d0887"
             ],
             [
              0.1111111111111111,
              "#46039f"
             ],
             [
              0.2222222222222222,
              "#7201a8"
             ],
             [
              0.3333333333333333,
              "#9c179e"
             ],
             [
              0.4444444444444444,
              "#bd3786"
             ],
             [
              0.5555555555555556,
              "#d8576b"
             ],
             [
              0.6666666666666666,
              "#ed7953"
             ],
             [
              0.7777777777777778,
              "#fb9f3a"
             ],
             [
              0.8888888888888888,
              "#fdca26"
             ],
             [
              1,
              "#f0f921"
             ]
            ],
            "type": "heatmapgl"
           }
          ],
          "histogram": [
           {
            "marker": {
             "pattern": {
              "fillmode": "overlay",
              "size": 10,
              "solidity": 0.2
             }
            },
            "type": "histogram"
           }
          ],
          "histogram2d": [
           {
            "colorbar": {
             "outlinewidth": 0,
             "ticks": ""
            },
            "colorscale": [
             [
              0,
              "#0d0887"
             ],
             [
              0.1111111111111111,
              "#46039f"
             ],
             [
              0.2222222222222222,
              "#7201a8"
             ],
             [
              0.3333333333333333,
              "#9c179e"
             ],
             [
              0.4444444444444444,
              "#bd3786"
             ],
             [
              0.5555555555555556,
              "#d8576b"
             ],
             [
              0.6666666666666666,
              "#ed7953"
             ],
             [
              0.7777777777777778,
              "#fb9f3a"
             ],
             [
              0.8888888888888888,
              "#fdca26"
             ],
             [
              1,
              "#f0f921"
             ]
            ],
            "type": "histogram2d"
           }
          ],
          "histogram2dcontour": [
           {
            "colorbar": {
             "outlinewidth": 0,
             "ticks": ""
            },
            "colorscale": [
             [
              0,
              "#0d0887"
             ],
             [
              0.1111111111111111,
              "#46039f"
             ],
             [
              0.2222222222222222,
              "#7201a8"
             ],
             [
              0.3333333333333333,
              "#9c179e"
             ],
             [
              0.4444444444444444,
              "#bd3786"
             ],
             [
              0.5555555555555556,
              "#d8576b"
             ],
             [
              0.6666666666666666,
              "#ed7953"
             ],
             [
              0.7777777777777778,
              "#fb9f3a"
             ],
             [
              0.8888888888888888,
              "#fdca26"
             ],
             [
              1,
              "#f0f921"
             ]
            ],
            "type": "histogram2dcontour"
           }
          ],
          "mesh3d": [
           {
            "colorbar": {
             "outlinewidth": 0,
             "ticks": ""
            },
            "type": "mesh3d"
           }
          ],
          "parcoords": [
           {
            "line": {
             "colorbar": {
              "outlinewidth": 0,
              "ticks": ""
             }
            },
            "type": "parcoords"
           }
          ],
          "pie": [
           {
            "automargin": true,
            "type": "pie"
           }
          ],
          "scatter": [
           {
            "fillpattern": {
             "fillmode": "overlay",
             "size": 10,
             "solidity": 0.2
            },
            "type": "scatter"
           }
          ],
          "scatter3d": [
           {
            "line": {
             "colorbar": {
              "outlinewidth": 0,
              "ticks": ""
             }
            },
            "marker": {
             "colorbar": {
              "outlinewidth": 0,
              "ticks": ""
             }
            },
            "type": "scatter3d"
           }
          ],
          "scattercarpet": [
           {
            "marker": {
             "colorbar": {
              "outlinewidth": 0,
              "ticks": ""
             }
            },
            "type": "scattercarpet"
           }
          ],
          "scattergeo": [
           {
            "marker": {
             "colorbar": {
              "outlinewidth": 0,
              "ticks": ""
             }
            },
            "type": "scattergeo"
           }
          ],
          "scattergl": [
           {
            "marker": {
             "colorbar": {
              "outlinewidth": 0,
              "ticks": ""
             }
            },
            "type": "scattergl"
           }
          ],
          "scattermapbox": [
           {
            "marker": {
             "colorbar": {
              "outlinewidth": 0,
              "ticks": ""
             }
            },
            "type": "scattermapbox"
           }
          ],
          "scatterpolar": [
           {
            "marker": {
             "colorbar": {
              "outlinewidth": 0,
              "ticks": ""
             }
            },
            "type": "scatterpolar"
           }
          ],
          "scatterpolargl": [
           {
            "marker": {
             "colorbar": {
              "outlinewidth": 0,
              "ticks": ""
             }
            },
            "type": "scatterpolargl"
           }
          ],
          "scatterternary": [
           {
            "marker": {
             "colorbar": {
              "outlinewidth": 0,
              "ticks": ""
             }
            },
            "type": "scatterternary"
           }
          ],
          "surface": [
           {
            "colorbar": {
             "outlinewidth": 0,
             "ticks": ""
            },
            "colorscale": [
             [
              0,
              "#0d0887"
             ],
             [
              0.1111111111111111,
              "#46039f"
             ],
             [
              0.2222222222222222,
              "#7201a8"
             ],
             [
              0.3333333333333333,
              "#9c179e"
             ],
             [
              0.4444444444444444,
              "#bd3786"
             ],
             [
              0.5555555555555556,
              "#d8576b"
             ],
             [
              0.6666666666666666,
              "#ed7953"
             ],
             [
              0.7777777777777778,
              "#fb9f3a"
             ],
             [
              0.8888888888888888,
              "#fdca26"
             ],
             [
              1,
              "#f0f921"
             ]
            ],
            "type": "surface"
           }
          ],
          "table": [
           {
            "cells": {
             "fill": {
              "color": "#EBF0F8"
             },
             "line": {
              "color": "white"
             }
            },
            "header": {
             "fill": {
              "color": "#C8D4E3"
             },
             "line": {
              "color": "white"
             }
            },
            "type": "table"
           }
          ]
         },
         "layout": {
          "annotationdefaults": {
           "arrowcolor": "#2a3f5f",
           "arrowhead": 0,
           "arrowwidth": 1
          },
          "autotypenumbers": "strict",
          "coloraxis": {
           "colorbar": {
            "outlinewidth": 0,
            "ticks": ""
           }
          },
          "colorscale": {
           "diverging": [
            [
             0,
             "#8e0152"
            ],
            [
             0.1,
             "#c51b7d"
            ],
            [
             0.2,
             "#de77ae"
            ],
            [
             0.3,
             "#f1b6da"
            ],
            [
             0.4,
             "#fde0ef"
            ],
            [
             0.5,
             "#f7f7f7"
            ],
            [
             0.6,
             "#e6f5d0"
            ],
            [
             0.7,
             "#b8e186"
            ],
            [
             0.8,
             "#7fbc41"
            ],
            [
             0.9,
             "#4d9221"
            ],
            [
             1,
             "#276419"
            ]
           ],
           "sequential": [
            [
             0,
             "#0d0887"
            ],
            [
             0.1111111111111111,
             "#46039f"
            ],
            [
             0.2222222222222222,
             "#7201a8"
            ],
            [
             0.3333333333333333,
             "#9c179e"
            ],
            [
             0.4444444444444444,
             "#bd3786"
            ],
            [
             0.5555555555555556,
             "#d8576b"
            ],
            [
             0.6666666666666666,
             "#ed7953"
            ],
            [
             0.7777777777777778,
             "#fb9f3a"
            ],
            [
             0.8888888888888888,
             "#fdca26"
            ],
            [
             1,
             "#f0f921"
            ]
           ],
           "sequentialminus": [
            [
             0,
             "#0d0887"
            ],
            [
             0.1111111111111111,
             "#46039f"
            ],
            [
             0.2222222222222222,
             "#7201a8"
            ],
            [
             0.3333333333333333,
             "#9c179e"
            ],
            [
             0.4444444444444444,
             "#bd3786"
            ],
            [
             0.5555555555555556,
             "#d8576b"
            ],
            [
             0.6666666666666666,
             "#ed7953"
            ],
            [
             0.7777777777777778,
             "#fb9f3a"
            ],
            [
             0.8888888888888888,
             "#fdca26"
            ],
            [
             1,
             "#f0f921"
            ]
           ]
          },
          "colorway": [
           "#636efa",
           "#EF553B",
           "#00cc96",
           "#ab63fa",
           "#FFA15A",
           "#19d3f3",
           "#FF6692",
           "#B6E880",
           "#FF97FF",
           "#FECB52"
          ],
          "font": {
           "color": "#2a3f5f"
          },
          "geo": {
           "bgcolor": "white",
           "lakecolor": "white",
           "landcolor": "#E5ECF6",
           "showlakes": true,
           "showland": true,
           "subunitcolor": "white"
          },
          "hoverlabel": {
           "align": "left"
          },
          "hovermode": "closest",
          "mapbox": {
           "style": "light"
          },
          "paper_bgcolor": "white",
          "plot_bgcolor": "#E5ECF6",
          "polar": {
           "angularaxis": {
            "gridcolor": "white",
            "linecolor": "white",
            "ticks": ""
           },
           "bgcolor": "#E5ECF6",
           "radialaxis": {
            "gridcolor": "white",
            "linecolor": "white",
            "ticks": ""
           }
          },
          "scene": {
           "xaxis": {
            "backgroundcolor": "#E5ECF6",
            "gridcolor": "white",
            "gridwidth": 2,
            "linecolor": "white",
            "showbackground": true,
            "ticks": "",
            "zerolinecolor": "white"
           },
           "yaxis": {
            "backgroundcolor": "#E5ECF6",
            "gridcolor": "white",
            "gridwidth": 2,
            "linecolor": "white",
            "showbackground": true,
            "ticks": "",
            "zerolinecolor": "white"
           },
           "zaxis": {
            "backgroundcolor": "#E5ECF6",
            "gridcolor": "white",
            "gridwidth": 2,
            "linecolor": "white",
            "showbackground": true,
            "ticks": "",
            "zerolinecolor": "white"
           }
          },
          "shapedefaults": {
           "line": {
            "color": "#2a3f5f"
           }
          },
          "ternary": {
           "aaxis": {
            "gridcolor": "white",
            "linecolor": "white",
            "ticks": ""
           },
           "baxis": {
            "gridcolor": "white",
            "linecolor": "white",
            "ticks": ""
           },
           "bgcolor": "#E5ECF6",
           "caxis": {
            "gridcolor": "white",
            "linecolor": "white",
            "ticks": ""
           }
          },
          "title": {
           "x": 0.05
          },
          "xaxis": {
           "automargin": true,
           "gridcolor": "white",
           "linecolor": "white",
           "ticks": "",
           "title": {
            "standoff": 15
           },
           "zerolinecolor": "white",
           "zerolinewidth": 2
          },
          "yaxis": {
           "automargin": true,
           "gridcolor": "white",
           "linecolor": "white",
           "ticks": "",
           "title": {
            "standoff": 15
           },
           "zerolinecolor": "white",
           "zerolinewidth": 2
          }
         }
        },
        "xaxis": {
         "anchor": "y",
         "domain": [
          0,
          1
         ],
         "title": {
          "text": "Date"
         }
        },
        "yaxis": {
         "anchor": "x",
         "domain": [
          0,
          1
         ],
         "title": {
          "text": "House Price / Dollar"
         }
        }
       }
      },
      "text/html": [
       "<div>                            <div id=\"836fd98b-6436-490c-acf5-0ee29b1829f9\" class=\"plotly-graph-div\" style=\"height:525px; width:100%;\"></div>            <script type=\"text/javascript\">                require([\"plotly\"], function(Plotly) {                    window.PLOTLYENV=window.PLOTLYENV || {};                                    if (document.getElementById(\"836fd98b-6436-490c-acf5-0ee29b1829f9\")) {                    Plotly.newPlot(                        \"836fd98b-6436-490c-acf5-0ee29b1829f9\",                        [{\"hovertemplate\":\"province=%{text}<br>date=%{x}<br>y=%{y}<extra></extra>\",\"legendgroup\":\"\\u06a9\\u0627\\u0628\\u0644\",\"marker\":{\"color\":\"#636efa\",\"symbol\":\"circle\"},\"mode\":\"markers+text\",\"name\":\"\\u06a9\\u0627\\u0628\\u0644\",\"orientation\":\"v\",\"showlegend\":true,\"text\":[\"\\u06a9\\u0627\\u0628\\u0644\",\"\\u06a9\\u0627\\u0628\\u0644\",\"\\u06a9\\u0627\\u0628\\u0644\",\"\\u06a9\\u0627\\u0628\\u0644\",\"\\u06a9\\u0627\\u0628\\u0644\",\"\\u06a9\\u0627\\u0628\\u0644\",\"\\u06a9\\u0627\\u0628\\u0644\",\"\\u06a9\\u0627\\u0628\\u0644\",\"\\u06a9\\u0627\\u0628\\u0644\",\"\\u06a9\\u0627\\u0628\\u0644\",\"\\u06a9\\u0627\\u0628\\u0644\",\"\\u06a9\\u0627\\u0628\\u0644\",\"\\u06a9\\u0627\\u0628\\u0644\",\"\\u06a9\\u0627\\u0628\\u0644\",\"\\u06a9\\u0627\\u0628\\u0644\",\"\\u06a9\\u0627\\u0628\\u0644\",\"\\u06a9\\u0627\\u0628\\u0644\",\"\\u06a9\\u0627\\u0628\\u0644\",\"\\u06a9\\u0627\\u0628\\u0644\",\"\\u06a9\\u0627\\u0628\\u0644\",\"\\u06a9\\u0627\\u0628\\u0644\",\"\\u06a9\\u0627\\u0628\\u0644\",\"\\u06a9\\u0627\\u0628\\u0644\",\"\\u06a9\\u0627\\u0628\\u0644\",\"\\u06a9\\u0627\\u0628\\u0644\",\"\\u06a9\\u0627\\u0628\\u0644\",\"\\u06a9\\u0627\\u0628\\u0644\",\"\\u06a9\\u0627\\u0628\\u0644\",\"\\u06a9\\u0627\\u0628\\u0644\",\"\\u06a9\\u0627\\u0628\\u0644\",\"\\u06a9\\u0627\\u0628\\u0644\",\"\\u06a9\\u0627\\u0628\\u0644\",\"\\u06a9\\u0627\\u0628\\u0644\",\"\\u06a9\\u0627\\u0628\\u0644\",\"\\u06a9\\u0627\\u0628\\u0644\",\"\\u06a9\\u0627\\u0628\\u0644\",\"\\u06a9\\u0627\\u0628\\u0644\",\"\\u06a9\\u0627\\u0628\\u0644\",\"\\u06a9\\u0627\\u0628\\u0644\",\"\\u06a9\\u0627\\u0628\\u0644\",\"\\u06a9\\u0627\\u0628\\u0644\",\"\\u06a9\\u0627\\u0628\\u0644\",\"\\u06a9\\u0627\\u0628\\u0644\",\"\\u06a9\\u0627\\u0628\\u0644\",\"\\u06a9\\u0627\\u0628\\u0644\",\"\\u06a9\\u0627\\u0628\\u0644\",\"\\u06a9\\u0627\\u0628\\u0644\",\"\\u06a9\\u0627\\u0628\\u0644\",\"\\u06a9\\u0627\\u0628\\u0644\",\"\\u06a9\\u0627\\u0628\\u0644\",\"\\u06a9\\u0627\\u0628\\u0644\",\"\\u06a9\\u0627\\u0628\\u0644\",\"\\u06a9\\u0627\\u0628\\u0644\",\"\\u06a9\\u0627\\u0628\\u0644\",\"\\u06a9\\u0627\\u0628\\u0644\",\"\\u06a9\\u0627\\u0628\\u0644\",\"\\u06a9\\u0627\\u0628\\u0644\",\"\\u06a9\\u0627\\u0628\\u0644\",\"\\u06a9\\u0627\\u0628\\u0644\",\"\\u06a9\\u0627\\u0628\\u0644\",\"\\u06a9\\u0627\\u0628\\u0644\",\"\\u06a9\\u0627\\u0628\\u0644\",\"\\u06a9\\u0627\\u0628\\u0644\",\"\\u06a9\\u0627\\u0628\\u0644\",\"\\u06a9\\u0627\\u0628\\u0644\",\"\\u06a9\\u0627\\u0628\\u0644\",\"\\u06a9\\u0627\\u0628\\u0644\",\"\\u06a9\\u0627\\u0628\\u0644\",\"\\u06a9\\u0627\\u0628\\u0644\",\"\\u06a9\\u0627\\u0628\\u0644\",\"\\u06a9\\u0627\\u0628\\u0644\"],\"x\":[\"2022-12-26\",\"2022-12-25\",\"2022-12-22\",\"2022-12-21\",\"2022-12-19\",\"2022-12-18\",\"2022-12-17\",\"2022-12-16\",\"2022-12-14\",\"2022-12-14\",\"2022-12-13\",\"2022-12-11\",\"2022-12-11\",\"2022-12-06\",\"2022-12-05\",\"2022-12-04\",\"2022-12-03\",\"2022-11-30\",\"2022-11-30\",\"2022-11-29\",\"2022-11-27\",\"2022-11-26\",\"2022-11-25\",\"2022-11-24\",\"2022-11-23\",\"2022-11-21\",\"2022-11-20\",\"2022-11-20\",\"2022-11-19\",\"2022-11-16\",\"2022-11-14\",\"2022-11-13\",\"2022-11-12\",\"2022-11-07\",\"2022-11-07\",\"2022-11-05\",\"2022-11-02\",\"2022-11-02\",\"2022-08-13\",\"2022-08-08\",\"2022-08-06\",\"2022-08-05\",\"2022-08-04\",\"2022-08-04\",\"2022-08-03\",\"2022-08-03\",\"2022-08-02\",\"2022-08-01\",\"2022-08-01\",\"2022-07-29\",\"2022-07-27\",\"2022-07-24\",\"2022-07-10\",\"2022-07-04\",\"2022-07-04\",\"2022-07-02\",\"2022-06-27\",\"2022-06-10\",\"2022-06-03\",\"2022-06-02\",\"2022-06-02\",\"2022-06-01\",\"2022-05-31\",\"2022-05-30\",\"2022-05-30\",\"2022-05-29\",\"2022-05-28\",\"2022-05-26\",\"2022-05-24\",\"2022-05-16\",\"2022-05-14\"],\"xaxis\":\"x\",\"y\":[50.0,150.0,170.0,230.0,350.0,650.0,6600.0,8000.0,8000.0,8800.0,10000.0,10000.0,10000.0,11000.0,11000.0,12000.0,12000.0,13000.0,14000.0,14300.0,14300.0,14300.0,15000.0,15000.0,15400.0,15400.0,16000.0,16000.0,16500.0,19800.0,20000.0,20000.0,20000.0,23000.0,23000.0,23000.0,25000.0,25000.0,25000.0,25000.0,25000.0,25000.0,25000.0,25000.0,26000.0,26000.0,28000.0,30000.0,30000.0,30000.0,30000.0,30000.0,30000.0,30800.0,32000.0,32000.0,32500.0,33000.0,34000.0,35000.0,35000.0,35000.0,35000.0,36000.0,36000.0,37000.0,37000.0,38000.0,38000.0,38500.0,40000.0],\"yaxis\":\"y\",\"type\":\"scatter\",\"textposition\":\"bottom right\"},{\"hovertemplate\":\"province=%{text}<br>date=%{x}<br>y=%{y}<extra></extra>\",\"legendgroup\":\"\\u0645\\u0632\\u0627\\u0631\",\"marker\":{\"color\":\"#EF553B\",\"symbol\":\"circle\"},\"mode\":\"markers+text\",\"name\":\"\\u0645\\u0632\\u0627\\u0631\",\"orientation\":\"v\",\"showlegend\":true,\"text\":[\"\\u0645\\u0632\\u0627\\u0631\",\"\\u0645\\u0632\\u0627\\u0631\",\"\\u0645\\u0632\\u0627\\u0631\",\"\\u0645\\u0632\\u0627\\u0631\",\"\\u0645\\u0632\\u0627\\u0631\",\"\\u0645\\u0632\\u0627\\u0631\",\"\\u0645\\u0632\\u0627\\u0631\",\"\\u0645\\u0632\\u0627\\u0631\",\"\\u0645\\u0632\\u0627\\u0631\",\"\\u0645\\u0632\\u0627\\u0631\",\"\\u0645\\u0632\\u0627\\u0631\",\"\\u0645\\u0632\\u0627\\u0631\",\"\\u0645\\u0632\\u0627\\u0631\",\"\\u0645\\u0632\\u0627\\u0631\",\"\\u0645\\u0632\\u0627\\u0631\",\"\\u0645\\u0632\\u0627\\u0631\",\"\\u0645\\u0632\\u0627\\u0631\",\"\\u0645\\u0632\\u0627\\u0631\",\"\\u0645\\u0632\\u0627\\u0631\",\"\\u0645\\u0632\\u0627\\u0631\",\"\\u0645\\u0632\\u0627\\u0631\",\"\\u0645\\u0632\\u0627\\u0631\",\"\\u0645\\u0632\\u0627\\u0631\",\"\\u0645\\u0632\\u0627\\u0631\",\"\\u0645\\u0632\\u0627\\u0631\",\"\\u0645\\u0632\\u0627\\u0631\",\"\\u0645\\u0632\\u0627\\u0631\",\"\\u0645\\u0632\\u0627\\u0631\",\"\\u0645\\u0632\\u0627\\u0631\",\"\\u0645\\u0632\\u0627\\u0631\",\"\\u0645\\u0632\\u0627\\u0631\",\"\\u0645\\u0632\\u0627\\u0631\",\"\\u0645\\u0632\\u0627\\u0631\",\"\\u0645\\u0632\\u0627\\u0631\",\"\\u0645\\u0632\\u0627\\u0631\",\"\\u0645\\u0632\\u0627\\u0631\",\"\\u0645\\u0632\\u0627\\u0631\",\"\\u0645\\u0632\\u0627\\u0631\",\"\\u0645\\u0632\\u0627\\u0631\",\"\\u0645\\u0632\\u0627\\u0631\",\"\\u0645\\u0632\\u0627\\u0631\",\"\\u0645\\u0632\\u0627\\u0631\",\"\\u0645\\u0632\\u0627\\u0631\",\"\\u0645\\u0632\\u0627\\u0631\",\"\\u0645\\u0632\\u0627\\u0631\",\"\\u0645\\u0632\\u0627\\u0631\",\"\\u0645\\u0632\\u0627\\u0631\",\"\\u0645\\u0632\\u0627\\u0631\",\"\\u0645\\u0632\\u0627\\u0631\",\"\\u0645\\u0632\\u0627\\u0631\",\"\\u0645\\u0632\\u0627\\u0631\",\"\\u0645\\u0632\\u0627\\u0631\",\"\\u0645\\u0632\\u0627\\u0631\",\"\\u0645\\u0632\\u0627\\u0631\",\"\\u0645\\u0632\\u0627\\u0631\",\"\\u0645\\u0632\\u0627\\u0631\",\"\\u0645\\u0632\\u0627\\u0631\",\"\\u0645\\u0632\\u0627\\u0631\",\"\\u0645\\u0632\\u0627\\u0631\",\"\\u0645\\u0632\\u0627\\u0631\",\"\\u0645\\u0632\\u0627\\u0631\",\"\\u0645\\u0632\\u0627\\u0631\",\"\\u0645\\u0632\\u0627\\u0631\",\"\\u0645\\u0632\\u0627\\u0631\",\"\\u0645\\u0632\\u0627\\u0631\",\"\\u0645\\u0632\\u0627\\u0631\",\"\\u0645\\u0632\\u0627\\u0631\",\"\\u0645\\u0632\\u0627\\u0631\",\"\\u0645\\u0632\\u0627\\u0631\",\"\\u0645\\u0632\\u0627\\u0631\",\"\\u0645\\u0632\\u0627\\u0631\",\"\\u0645\\u0632\\u0627\\u0631\",\"\\u0645\\u0632\\u0627\\u0631\",\"\\u0645\\u0632\\u0627\\u0631\",\"\\u0645\\u0632\\u0627\\u0631\",\"\\u0645\\u0632\\u0627\\u0631\",\"\\u0645\\u0632\\u0627\\u0631\",\"\\u0645\\u0632\\u0627\\u0631\",\"\\u0645\\u0632\\u0627\\u0631\",\"\\u0645\\u0632\\u0627\\u0631\",\"\\u0645\\u0632\\u0627\\u0631\",\"\\u0645\\u0632\\u0627\\u0631\",\"\\u0645\\u0632\\u0627\\u0631\",\"\\u0645\\u0632\\u0627\\u0631\",\"\\u0645\\u0632\\u0627\\u0631\",\"\\u0645\\u0632\\u0627\\u0631\",\"\\u0645\\u0632\\u0627\\u0631\",\"\\u0645\\u0632\\u0627\\u0631\",\"\\u0645\\u0632\\u0627\\u0631\",\"\\u0645\\u0632\\u0627\\u0631\",\"\\u0645\\u0632\\u0627\\u0631\",\"\\u0645\\u0632\\u0627\\u0631\",\"\\u0645\\u0632\\u0627\\u0631\",\"\\u0645\\u0632\\u0627\\u0631\",\"\\u0645\\u0632\\u0627\\u0631\",\"\\u0645\\u0632\\u0627\\u0631\",\"\\u0645\\u0632\\u0627\\u0631\",\"\\u0645\\u0632\\u0627\\u0631\",\"\\u0645\\u0632\\u0627\\u0631\",\"\\u0645\\u0632\\u0627\\u0631\",\"\\u0645\\u0632\\u0627\\u0631\",\"\\u0645\\u0632\\u0627\\u0631\"],\"x\":[\"2022-06-06\",\"2022-06-01\",\"2022-05-31\",\"2022-05-31\",\"2022-05-30\",\"2022-05-22\",\"2022-05-07\",\"2022-05-06\",\"2022-05-05\",\"2022-05-04\",\"2022-04-29\",\"2022-04-29\",\"2022-04-25\",\"2022-04-25\",\"2022-04-24\",\"2022-04-23\",\"2022-04-21\",\"2022-04-21\",\"2022-04-20\",\"2022-04-20\",\"2022-04-19\",\"2022-04-19\",\"2022-04-19\",\"2022-04-18\",\"2022-04-18\",\"2022-04-17\",\"2022-04-16\",\"2022-04-16\",\"2022-04-15\",\"2022-04-15\",\"2022-04-13\",\"2022-04-12\",\"2022-04-12\",\"2022-04-12\",\"2022-04-11\",\"2022-04-10\",\"2022-04-09\",\"2022-04-06\",\"2022-04-06\",\"2022-04-05\",\"2022-04-04\",\"2022-04-03\",\"2022-04-02\",\"2022-03-31\",\"2022-03-30\",\"2022-03-29\",\"2022-03-28\",\"2022-03-27\",\"2022-03-27\",\"2022-03-26\",\"2022-03-24\",\"2022-03-23\",\"2022-03-23\",\"2022-03-21\",\"2022-03-21\",\"2022-03-18\",\"2022-03-17\",\"2022-03-17\",\"2022-03-16\",\"2022-03-15\",\"2022-03-14\",\"2022-03-13\",\"2022-03-12\",\"2022-03-09\",\"2022-03-07\",\"2022-03-06\",\"2022-03-04\",\"2022-03-03\",\"2022-03-03\",\"2022-03-02\",\"2022-03-02\",\"2022-02-28\",\"2022-02-28\",\"2022-02-27\",\"2022-02-26\",\"2022-02-25\",\"2022-02-23\",\"2022-02-21\",\"2022-02-21\",\"2022-02-20\",\"2022-02-19\",\"2022-02-17\",\"2022-02-16\",\"2022-02-14\",\"2022-02-11\",\"2022-02-10\",\"2022-02-09\",\"2022-02-09\",\"2022-02-08\",\"2022-02-08\",\"2022-02-07\",\"2022-02-07\",\"2022-02-06\",\"2022-02-05\",\"2022-02-05\",\"2022-02-04\",\"2022-02-04\",\"2022-02-03\",\"2022-02-03\",\"2022-02-02\",\"2022-02-02\",\"2022-02-01\"],\"xaxis\":\"x\",\"y\":[34000.0,35000.0,35000.0,35000.0,36000.0,38000.0,48000.0,48000.0,50000.0,50000.0,50000.0,50000.0,50000.0,50000.0,50000.0,50000.0,50000.0,55000.0,55000.0,55000.0,55000.0,55000.0,55000.0,55000.0,55000.0,60000.0,60000.0,60000.0,65000.0,65000.0,65000.0,65000.0,65000.0,65000.0,65000.0,65000.0,70000.0,70000.0,70000.0,70000.0,70000.0,70000.0,72000.0,75000.0,75000.0,75000.0,75000.0,75000.0,75000.0,75000.0,80000.0,80000.0,80000.0,80000.0,80000.0,80000.0,80000.0,84000.0,84700.0,85000.0,85000.0,85000.0,85000.0,90000.0,90000.0,90000.0,90000.0,90000.0,90000.0,90000.0,90000.0,95000.0,95000.0,95000.0,98000.0,99000.0,100000.0,100000.0,110000.0,110000.0,125000.0,130000.0,135000.0,135000.0,149500.0,150000.0,150000.0,150000.0,155000.0,158000.0,160000.0,165000.0,165000.0,180000.0,190000.0,220000.0,250000.0,250000.0,315000.0,315000.0,370000.0,370000.0],\"yaxis\":\"y\",\"type\":\"scatter\",\"textposition\":\"bottom right\"},{\"hovertemplate\":\"province=%{text}<br>date=%{x}<br>y=%{y}<extra></extra>\",\"legendgroup\":\"\",\"marker\":{\"color\":\"#00cc96\",\"symbol\":\"circle\"},\"mode\":\"markers+text\",\"name\":\"\",\"orientation\":\"v\",\"showlegend\":false,\"text\":[\"\",\"\",\"\",\"\",\"\",\"\",\"\",\"\",\"\",\"\",\"\",\"\",\"\",\"\",\"\",\"\",\"\",\"\",\"\",\"\",\"\",\"\",\"\",\"\",\"\",\"\",\"\",\"\",\"\",\"\",\"\"],\"x\":[\"2022-05-28\",\"2022-05-27\",\"2022-05-26\",\"2022-05-23\",\"2022-05-22\",\"2022-05-12\",\"2022-05-12\",\"2022-05-11\",\"2022-05-11\",\"2022-05-10\",\"2022-05-10\",\"2022-05-09\",\"2022-05-09\",\"2022-05-08\",\"2022-05-08\",\"2022-03-26\",\"2022-03-15\",\"2022-03-10\",\"2022-03-08\",\"2022-03-07\",\"2022-03-05\",\"2022-03-05\",\"2022-02-18\",\"2022-02-16\",\"2022-02-15\",\"2022-02-14\",\"2022-02-13\",\"2022-02-12\",\"2022-02-11\",\"2022-01-06\",\"2021-12-20\"],\"xaxis\":\"x\",\"y\":[37000.0,37000.0,38000.0,38000.0,38000.0,40000.0,40000.0,40000.0,40000.0,40000.0,40000.0,42000.0,45000.0,45000.0,46200.0,78000.0,85000.0,85000.0,90000.0,90000.0,90000.0,90000.0,130000.0,135000.0,135000.0,145000.0,145000.0,149500.0,150000.0,370000.0,380000.0],\"yaxis\":\"y\",\"type\":\"scatter\",\"textposition\":\"bottom right\"}],                        {\"template\":{\"data\":{\"histogram2dcontour\":[{\"type\":\"histogram2dcontour\",\"colorbar\":{\"outlinewidth\":0,\"ticks\":\"\"},\"colorscale\":[[0.0,\"#0d0887\"],[0.1111111111111111,\"#46039f\"],[0.2222222222222222,\"#7201a8\"],[0.3333333333333333,\"#9c179e\"],[0.4444444444444444,\"#bd3786\"],[0.5555555555555556,\"#d8576b\"],[0.6666666666666666,\"#ed7953\"],[0.7777777777777778,\"#fb9f3a\"],[0.8888888888888888,\"#fdca26\"],[1.0,\"#f0f921\"]]}],\"choropleth\":[{\"type\":\"choropleth\",\"colorbar\":{\"outlinewidth\":0,\"ticks\":\"\"}}],\"histogram2d\":[{\"type\":\"histogram2d\",\"colorbar\":{\"outlinewidth\":0,\"ticks\":\"\"},\"colorscale\":[[0.0,\"#0d0887\"],[0.1111111111111111,\"#46039f\"],[0.2222222222222222,\"#7201a8\"],[0.3333333333333333,\"#9c179e\"],[0.4444444444444444,\"#bd3786\"],[0.5555555555555556,\"#d8576b\"],[0.6666666666666666,\"#ed7953\"],[0.7777777777777778,\"#fb9f3a\"],[0.8888888888888888,\"#fdca26\"],[1.0,\"#f0f921\"]]}],\"heatmap\":[{\"type\":\"heatmap\",\"colorbar\":{\"outlinewidth\":0,\"ticks\":\"\"},\"colorscale\":[[0.0,\"#0d0887\"],[0.1111111111111111,\"#46039f\"],[0.2222222222222222,\"#7201a8\"],[0.3333333333333333,\"#9c179e\"],[0.4444444444444444,\"#bd3786\"],[0.5555555555555556,\"#d8576b\"],[0.6666666666666666,\"#ed7953\"],[0.7777777777777778,\"#fb9f3a\"],[0.8888888888888888,\"#fdca26\"],[1.0,\"#f0f921\"]]}],\"heatmapgl\":[{\"type\":\"heatmapgl\",\"colorbar\":{\"outlinewidth\":0,\"ticks\":\"\"},\"colorscale\":[[0.0,\"#0d0887\"],[0.1111111111111111,\"#46039f\"],[0.2222222222222222,\"#7201a8\"],[0.3333333333333333,\"#9c179e\"],[0.4444444444444444,\"#bd3786\"],[0.5555555555555556,\"#d8576b\"],[0.6666666666666666,\"#ed7953\"],[0.7777777777777778,\"#fb9f3a\"],[0.8888888888888888,\"#fdca26\"],[1.0,\"#f0f921\"]]}],\"contourcarpet\":[{\"type\":\"contourcarpet\",\"colorbar\":{\"outlinewidth\":0,\"ticks\":\"\"}}],\"contour\":[{\"type\":\"contour\",\"colorbar\":{\"outlinewidth\":0,\"ticks\":\"\"},\"colorscale\":[[0.0,\"#0d0887\"],[0.1111111111111111,\"#46039f\"],[0.2222222222222222,\"#7201a8\"],[0.3333333333333333,\"#9c179e\"],[0.4444444444444444,\"#bd3786\"],[0.5555555555555556,\"#d8576b\"],[0.6666666666666666,\"#ed7953\"],[0.7777777777777778,\"#fb9f3a\"],[0.8888888888888888,\"#fdca26\"],[1.0,\"#f0f921\"]]}],\"surface\":[{\"type\":\"surface\",\"colorbar\":{\"outlinewidth\":0,\"ticks\":\"\"},\"colorscale\":[[0.0,\"#0d0887\"],[0.1111111111111111,\"#46039f\"],[0.2222222222222222,\"#7201a8\"],[0.3333333333333333,\"#9c179e\"],[0.4444444444444444,\"#bd3786\"],[0.5555555555555556,\"#d8576b\"],[0.6666666666666666,\"#ed7953\"],[0.7777777777777778,\"#fb9f3a\"],[0.8888888888888888,\"#fdca26\"],[1.0,\"#f0f921\"]]}],\"mesh3d\":[{\"type\":\"mesh3d\",\"colorbar\":{\"outlinewidth\":0,\"ticks\":\"\"}}],\"scatter\":[{\"fillpattern\":{\"fillmode\":\"overlay\",\"size\":10,\"solidity\":0.2},\"type\":\"scatter\"}],\"parcoords\":[{\"type\":\"parcoords\",\"line\":{\"colorbar\":{\"outlinewidth\":0,\"ticks\":\"\"}}}],\"scatterpolargl\":[{\"type\":\"scatterpolargl\",\"marker\":{\"colorbar\":{\"outlinewidth\":0,\"ticks\":\"\"}}}],\"bar\":[{\"error_x\":{\"color\":\"#2a3f5f\"},\"error_y\":{\"color\":\"#2a3f5f\"},\"marker\":{\"line\":{\"color\":\"#E5ECF6\",\"width\":0.5},\"pattern\":{\"fillmode\":\"overlay\",\"size\":10,\"solidity\":0.2}},\"type\":\"bar\"}],\"scattergeo\":[{\"type\":\"scattergeo\",\"marker\":{\"colorbar\":{\"outlinewidth\":0,\"ticks\":\"\"}}}],\"scatterpolar\":[{\"type\":\"scatterpolar\",\"marker\":{\"colorbar\":{\"outlinewidth\":0,\"ticks\":\"\"}}}],\"histogram\":[{\"marker\":{\"pattern\":{\"fillmode\":\"overlay\",\"size\":10,\"solidity\":0.2}},\"type\":\"histogram\"}],\"scattergl\":[{\"type\":\"scattergl\",\"marker\":{\"colorbar\":{\"outlinewidth\":0,\"ticks\":\"\"}}}],\"scatter3d\":[{\"type\":\"scatter3d\",\"line\":{\"colorbar\":{\"outlinewidth\":0,\"ticks\":\"\"}},\"marker\":{\"colorbar\":{\"outlinewidth\":0,\"ticks\":\"\"}}}],\"scattermapbox\":[{\"type\":\"scattermapbox\",\"marker\":{\"colorbar\":{\"outlinewidth\":0,\"ticks\":\"\"}}}],\"scatterternary\":[{\"type\":\"scatterternary\",\"marker\":{\"colorbar\":{\"outlinewidth\":0,\"ticks\":\"\"}}}],\"scattercarpet\":[{\"type\":\"scattercarpet\",\"marker\":{\"colorbar\":{\"outlinewidth\":0,\"ticks\":\"\"}}}],\"carpet\":[{\"aaxis\":{\"endlinecolor\":\"#2a3f5f\",\"gridcolor\":\"white\",\"linecolor\":\"white\",\"minorgridcolor\":\"white\",\"startlinecolor\":\"#2a3f5f\"},\"baxis\":{\"endlinecolor\":\"#2a3f5f\",\"gridcolor\":\"white\",\"linecolor\":\"white\",\"minorgridcolor\":\"white\",\"startlinecolor\":\"#2a3f5f\"},\"type\":\"carpet\"}],\"table\":[{\"cells\":{\"fill\":{\"color\":\"#EBF0F8\"},\"line\":{\"color\":\"white\"}},\"header\":{\"fill\":{\"color\":\"#C8D4E3\"},\"line\":{\"color\":\"white\"}},\"type\":\"table\"}],\"barpolar\":[{\"marker\":{\"line\":{\"color\":\"#E5ECF6\",\"width\":0.5},\"pattern\":{\"fillmode\":\"overlay\",\"size\":10,\"solidity\":0.2}},\"type\":\"barpolar\"}],\"pie\":[{\"automargin\":true,\"type\":\"pie\"}]},\"layout\":{\"autotypenumbers\":\"strict\",\"colorway\":[\"#636efa\",\"#EF553B\",\"#00cc96\",\"#ab63fa\",\"#FFA15A\",\"#19d3f3\",\"#FF6692\",\"#B6E880\",\"#FF97FF\",\"#FECB52\"],\"font\":{\"color\":\"#2a3f5f\"},\"hovermode\":\"closest\",\"hoverlabel\":{\"align\":\"left\"},\"paper_bgcolor\":\"white\",\"plot_bgcolor\":\"#E5ECF6\",\"polar\":{\"bgcolor\":\"#E5ECF6\",\"angularaxis\":{\"gridcolor\":\"white\",\"linecolor\":\"white\",\"ticks\":\"\"},\"radialaxis\":{\"gridcolor\":\"white\",\"linecolor\":\"white\",\"ticks\":\"\"}},\"ternary\":{\"bgcolor\":\"#E5ECF6\",\"aaxis\":{\"gridcolor\":\"white\",\"linecolor\":\"white\",\"ticks\":\"\"},\"baxis\":{\"gridcolor\":\"white\",\"linecolor\":\"white\",\"ticks\":\"\"},\"caxis\":{\"gridcolor\":\"white\",\"linecolor\":\"white\",\"ticks\":\"\"}},\"coloraxis\":{\"colorbar\":{\"outlinewidth\":0,\"ticks\":\"\"}},\"colorscale\":{\"sequential\":[[0.0,\"#0d0887\"],[0.1111111111111111,\"#46039f\"],[0.2222222222222222,\"#7201a8\"],[0.3333333333333333,\"#9c179e\"],[0.4444444444444444,\"#bd3786\"],[0.5555555555555556,\"#d8576b\"],[0.6666666666666666,\"#ed7953\"],[0.7777777777777778,\"#fb9f3a\"],[0.8888888888888888,\"#fdca26\"],[1.0,\"#f0f921\"]],\"sequentialminus\":[[0.0,\"#0d0887\"],[0.1111111111111111,\"#46039f\"],[0.2222222222222222,\"#7201a8\"],[0.3333333333333333,\"#9c179e\"],[0.4444444444444444,\"#bd3786\"],[0.5555555555555556,\"#d8576b\"],[0.6666666666666666,\"#ed7953\"],[0.7777777777777778,\"#fb9f3a\"],[0.8888888888888888,\"#fdca26\"],[1.0,\"#f0f921\"]],\"diverging\":[[0,\"#8e0152\"],[0.1,\"#c51b7d\"],[0.2,\"#de77ae\"],[0.3,\"#f1b6da\"],[0.4,\"#fde0ef\"],[0.5,\"#f7f7f7\"],[0.6,\"#e6f5d0\"],[0.7,\"#b8e186\"],[0.8,\"#7fbc41\"],[0.9,\"#4d9221\"],[1,\"#276419\"]]},\"xaxis\":{\"gridcolor\":\"white\",\"linecolor\":\"white\",\"ticks\":\"\",\"title\":{\"standoff\":15},\"zerolinecolor\":\"white\",\"automargin\":true,\"zerolinewidth\":2},\"yaxis\":{\"gridcolor\":\"white\",\"linecolor\":\"white\",\"ticks\":\"\",\"title\":{\"standoff\":15},\"zerolinecolor\":\"white\",\"automargin\":true,\"zerolinewidth\":2},\"scene\":{\"xaxis\":{\"backgroundcolor\":\"#E5ECF6\",\"gridcolor\":\"white\",\"linecolor\":\"white\",\"showbackground\":true,\"ticks\":\"\",\"zerolinecolor\":\"white\",\"gridwidth\":2},\"yaxis\":{\"backgroundcolor\":\"#E5ECF6\",\"gridcolor\":\"white\",\"linecolor\":\"white\",\"showbackground\":true,\"ticks\":\"\",\"zerolinecolor\":\"white\",\"gridwidth\":2},\"zaxis\":{\"backgroundcolor\":\"#E5ECF6\",\"gridcolor\":\"white\",\"linecolor\":\"white\",\"showbackground\":true,\"ticks\":\"\",\"zerolinecolor\":\"white\",\"gridwidth\":2}},\"shapedefaults\":{\"line\":{\"color\":\"#2a3f5f\"}},\"annotationdefaults\":{\"arrowcolor\":\"#2a3f5f\",\"arrowhead\":0,\"arrowwidth\":1},\"geo\":{\"bgcolor\":\"white\",\"landcolor\":\"#E5ECF6\",\"subunitcolor\":\"white\",\"showland\":true,\"showlakes\":true,\"lakecolor\":\"white\"},\"title\":{\"x\":0.05},\"mapbox\":{\"style\":\"light\"}}},\"xaxis\":{\"anchor\":\"y\",\"domain\":[0.0,1.0],\"title\":{\"text\":\"Date\"}},\"yaxis\":{\"anchor\":\"x\",\"domain\":[0.0,1.0],\"title\":{\"text\":\"House Price / Dollar\"}},\"legend\":{\"title\":{\"text\":\"province\"},\"tracegroupgap\":0},\"margin\":{\"t\":60}},                        {\"responsive\": true}                    ).then(function(){\n",
       "                            \n",
       "var gd = document.getElementById('836fd98b-6436-490c-acf5-0ee29b1829f9');\n",
       "var x = new MutationObserver(function (mutations, observer) {{\n",
       "        var display = window.getComputedStyle(gd).display;\n",
       "        if (!display || display === 'none') {{\n",
       "            console.log([gd, 'removed!']);\n",
       "            Plotly.purge(gd);\n",
       "            observer.disconnect();\n",
       "        }}\n",
       "}});\n",
       "\n",
       "// Listen for the removal of the full notebook cells\n",
       "var notebookContainer = gd.closest('#notebook-container');\n",
       "if (notebookContainer) {{\n",
       "    x.observe(notebookContainer, {childList: true});\n",
       "}}\n",
       "\n",
       "// Listen for the clearing of the current output cell\n",
       "var outputEl = gd.closest('.output');\n",
       "if (outputEl) {{\n",
       "    x.observe(outputEl, {childList: true});\n",
       "}}\n",
       "\n",
       "                        })                };                });            </script>        </div>"
      ]
     },
     "metadata": {},
     "output_type": "display_data"
    }
   ],
   "source": [
    "import plotly.express as px\n",
    "fig = px.scatter(df_house, x=\"date\", y=df_house[\"amount\"].sort_values(), text=\"province\", color=\"province\")\n",
    "fig.update_xaxes(title_text='Date')\n",
    "fig.update_yaxes(title_text='House Price / Dollar')\n",
    "fig.update_traces(textposition=\"bottom right\")\n",
    "fig.show()"
   ]
  },
  {
   "cell_type": "code",
   "execution_count": 47,
   "id": "338c48b1",
   "metadata": {},
   "outputs": [
    {
     "data": {
      "text/html": [
       "<div>\n",
       "<style scoped>\n",
       "    .dataframe tbody tr th:only-of-type {\n",
       "        vertical-align: middle;\n",
       "    }\n",
       "\n",
       "    .dataframe tbody tr th {\n",
       "        vertical-align: top;\n",
       "    }\n",
       "\n",
       "    .dataframe thead th {\n",
       "        text-align: right;\n",
       "    }\n",
       "</style>\n",
       "<table border=\"1\" class=\"dataframe\">\n",
       "  <thead>\n",
       "    <tr style=\"text-align: right;\">\n",
       "      <th></th>\n",
       "      <th>id</th>\n",
       "      <th>date</th>\n",
       "      <th>views</th>\n",
       "      <th>forwards</th>\n",
       "      <th>edit_date</th>\n",
       "      <th>item</th>\n",
       "      <th>item_name</th>\n",
       "      <th>address</th>\n",
       "      <th>amount</th>\n",
       "      <th>currency</th>\n",
       "    </tr>\n",
       "  </thead>\n",
       "  <tbody>\n",
       "    <tr>\n",
       "      <th>7</th>\n",
       "      <td>7613</td>\n",
       "      <td>2022-12-24</td>\n",
       "      <td>1536</td>\n",
       "      <td>0</td>\n",
       "      <td>2022-12-24</td>\n",
       "      <td>1-BG5</td>\n",
       "      <td>بلاک گروی</td>\n",
       "      <td>کابل: لب حر</td>\n",
       "      <td>9000</td>\n",
       "      <td>AF</td>\n",
       "    </tr>\n",
       "  </tbody>\n",
       "</table>\n",
       "</div>"
      ],
      "text/plain": [
       "     id        date  views  forwards   edit_date   item    item_name  \\\n",
       "7  7613  2022-12-24   1536         0  2022-12-24  1-BG5   بلاک گروی    \n",
       "\n",
       "        address amount currency  \n",
       "7   کابل: لب حر   9000       AF  "
      ]
     },
     "execution_count": 47,
     "metadata": {},
     "output_type": "execute_result"
    }
   ],
   "source": [
    "df_block[df_block.amount == df_block.amount.max()]"
   ]
  }
 ],
 "metadata": {
  "kernelspec": {
   "display_name": "Python 3 (ipykernel)",
   "language": "python",
   "name": "python3"
  },
  "language_info": {
   "codemirror_mode": {
    "name": "ipython",
    "version": 3
   },
   "file_extension": ".py",
   "mimetype": "text/x-python",
   "name": "python",
   "nbconvert_exporter": "python",
   "pygments_lexer": "ipython3",
   "version": "3.9.13"
  }
 },
 "nbformat": 4,
 "nbformat_minor": 5
}
